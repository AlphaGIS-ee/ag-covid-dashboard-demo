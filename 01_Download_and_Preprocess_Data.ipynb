{
 "cells": [
  {
   "cell_type": "markdown",
   "metadata": {},
   "source": [
    "# Get and Preprocess data from Estonian Open Data Platform"
   ]
  },
  {
   "cell_type": "markdown",
   "metadata": {},
   "source": [
    "**Index:**\n",
    "1. [Data acquisition](#Data-acquisition)\n",
    "2. [Investigation Data Structure](#Investigating-data-structure)\n",
    "3. [Converting Data](#Converting-dataset)\n",
    "4. [Data analysis](#Data-analysis)\n",
    "5. [Get additional Data](#Get-additional-data)\n",
    "6. [Export Final Data](#Export-final-values)"
   ]
  },
  {
   "cell_type": "markdown",
   "metadata": {},
   "source": [
    "### Data acquisition "
   ]
  },
  {
   "cell_type": "markdown",
   "metadata": {},
   "source": [
    "Information on the COVID-19 open data can be found on the official Terviseamet website\n",
    "\n",
    "[Koroonaviirus SARS-CoV-2 testide avaandmete kirjeldus](https://www.terviseamet.ee/et/koroonaviirus/avaandmed)\n",
    "\n",
    "In the section Testide avaandmete andmestruktuuri kirjeldus > Avaandmete lingid is the URL to the JSON file in which all results are published."
   ]
  },
  {
   "cell_type": "code",
   "execution_count": 1,
   "metadata": {},
   "outputs": [],
   "source": [
    "url = r'https://opendata.digilugu.ee/opendata_covid19_test_results.json' # JSON document"
   ]
  },
  {
   "cell_type": "markdown",
   "metadata": {},
   "source": [
    "With the [requests](https://requests.readthedocs.io/en/master/) library the file can be downloaded and read into variable ```d```."
   ]
  },
  {
   "cell_type": "code",
   "execution_count": 2,
   "metadata": {},
   "outputs": [],
   "source": [
    "import requests "
   ]
  },
  {
   "cell_type": "code",
   "execution_count": 3,
   "metadata": {},
   "outputs": [],
   "source": [
    "r = requests.get(url)\n",
    "d = r.json()"
   ]
  },
  {
   "cell_type": "markdown",
   "metadata": {},
   "source": [
    "The [list](https://www.w3schools.com/python/python_lists.asp) ```d``` now contains all the results from the COVID-19 testing. The amount of tests performed can be checked with ```len()```."
   ]
  },
  {
   "cell_type": "code",
   "execution_count": 4,
   "metadata": {},
   "outputs": [
    {
     "name": "stdout",
     "output_type": "stream",
     "text": [
      "192066\n"
     ]
    }
   ],
   "source": [
    "print(len(d))"
   ]
  },
  {
   "cell_type": "markdown",
   "metadata": {},
   "source": [
    "In the header data for the ```requests``` response is the ```Last-Modified``` date."
   ]
  },
  {
   "cell_type": "code",
   "execution_count": 5,
   "metadata": {},
   "outputs": [
    {
     "name": "stdout",
     "output_type": "stream",
     "text": [
      "Tue, 22 Sep 2020 07:27:36 GMT\n"
     ]
    }
   ],
   "source": [
    "print(r.headers['Last-Modified'])"
   ]
  },
  {
   "cell_type": "markdown",
   "metadata": {},
   "source": [
    "The derived results will be collected in the [dictionary](https://www.w3schools.com/python/python_dictionaries.asp) ```dc```."
   ]
  },
  {
   "cell_type": "code",
   "execution_count": 6,
   "metadata": {},
   "outputs": [],
   "source": [
    "dc = {}"
   ]
  },
  {
   "cell_type": "code",
   "execution_count": 7,
   "metadata": {},
   "outputs": [],
   "source": [
    "#from datetime import datetime\n",
    "from dateutil import tz\n",
    "from dateutil.parser import parse\n",
    "tzone = tz.gettz('Europe/Tallinn')"
   ]
  },
  {
   "cell_type": "code",
   "execution_count": 8,
   "metadata": {},
   "outputs": [],
   "source": [
    "dc['totalTested'] = len(d)\n",
    "dc['lastUpdate'] = parse(r.headers['Last-Modified']).astimezone(tzone).strftime('%d.%m.%Y %H:%M:%S')"
   ]
  },
  {
   "cell_type": "markdown",
   "metadata": {},
   "source": [
    "### Investigating data structure"
   ]
  },
  {
   "cell_type": "markdown",
   "metadata": {},
   "source": [
    "We can access the indivudal entries of the list ```d```. The first one with ```d[0]``` or the last one with ```d[-1]```. The list items are of type dictionary."
   ]
  },
  {
   "cell_type": "code",
   "execution_count": 9,
   "metadata": {
    "scrolled": true
   },
   "outputs": [
    {
     "data": {
      "text/plain": [
       "{'id': '221ff8539c2ad9eed0c02935f716307def6ad3fb518e37cf45b3b40394d0e9f7',\n",
       " 'Gender': 'M',\n",
       " 'AgeGroup': '25-29',\n",
       " 'Country': 'Eesti',\n",
       " 'County': 'Viljandi maakond',\n",
       " 'ResultValue': 'N',\n",
       " 'StatisticsDate': '2020-03-13',\n",
       " 'ResultTime': '2020-03-12T18:00:00+02:00',\n",
       " 'AnalysisInsertTime': '2020-03-13T15:23:00+02:00'}"
      ]
     },
     "execution_count": 9,
     "metadata": {},
     "output_type": "execute_result"
    }
   ],
   "source": [
    "d[30]"
   ]
  },
  {
   "cell_type": "markdown",
   "metadata": {},
   "source": [
    "The fields in the resulting dictionary are described on the [official website](https://www.terviseamet.ee/et/koroonaviirus/avaandmed). The fields can be accessed individually:"
   ]
  },
  {
   "cell_type": "code",
   "execution_count": 10,
   "metadata": {},
   "outputs": [
    {
     "data": {
      "text/plain": [
       "'25-29'"
      ]
     },
     "execution_count": 10,
     "metadata": {},
     "output_type": "execute_result"
    }
   ],
   "source": [
    "d[30]['AgeGroup']"
   ]
  },
  {
   "cell_type": "markdown",
   "metadata": {},
   "source": [
    "### Converting dataset"
   ]
  },
  {
   "cell_type": "markdown",
   "metadata": {},
   "source": [
    "The [pandas](https://pandas.pydata.org/) library can be used to get the data in a more accessible way. It provides functions for further data analysis."
   ]
  },
  {
   "cell_type": "code",
   "execution_count": 11,
   "metadata": {},
   "outputs": [],
   "source": [
    "import pandas as pd"
   ]
  },
  {
   "cell_type": "markdown",
   "metadata": {},
   "source": [
    "Convert the list with dictionary items to pandas dataframe. Display the first 5 rows."
   ]
  },
  {
   "cell_type": "code",
   "execution_count": 12,
   "metadata": {},
   "outputs": [
    {
     "data": {
      "text/html": [
       "<div>\n",
       "<style scoped>\n",
       "    .dataframe tbody tr th:only-of-type {\n",
       "        vertical-align: middle;\n",
       "    }\n",
       "\n",
       "    .dataframe tbody tr th {\n",
       "        vertical-align: top;\n",
       "    }\n",
       "\n",
       "    .dataframe thead th {\n",
       "        text-align: right;\n",
       "    }\n",
       "</style>\n",
       "<table border=\"1\" class=\"dataframe\">\n",
       "  <thead>\n",
       "    <tr style=\"text-align: right;\">\n",
       "      <th></th>\n",
       "      <th>id</th>\n",
       "      <th>Gender</th>\n",
       "      <th>AgeGroup</th>\n",
       "      <th>Country</th>\n",
       "      <th>County</th>\n",
       "      <th>ResultValue</th>\n",
       "      <th>StatisticsDate</th>\n",
       "      <th>ResultTime</th>\n",
       "      <th>AnalysisInsertTime</th>\n",
       "    </tr>\n",
       "  </thead>\n",
       "  <tbody>\n",
       "    <tr>\n",
       "      <th>10</th>\n",
       "      <td>7148777bb25abfcf6211575c5b4c3c64e10d9f759adf9b...</td>\n",
       "      <td>M</td>\n",
       "      <td>45-49</td>\n",
       "      <td>Eesti</td>\n",
       "      <td>Võru maakond</td>\n",
       "      <td>N</td>\n",
       "      <td>2020-03-11</td>\n",
       "      <td>2020-03-10T19:29:00+02:00</td>\n",
       "      <td>2020-03-11T13:22:53+02:00</td>\n",
       "    </tr>\n",
       "    <tr>\n",
       "      <th>11</th>\n",
       "      <td>ded14387a0af0168c1bc7c1bfa2ccd1a91f47eb2cb7560...</td>\n",
       "      <td>N</td>\n",
       "      <td>20-24</td>\n",
       "      <td>Eesti</td>\n",
       "      <td>Pärnu maakond</td>\n",
       "      <td>N</td>\n",
       "      <td>2020-03-11</td>\n",
       "      <td>2020-03-03T00:00:00+02:00</td>\n",
       "      <td>2020-03-11T08:49:21+02:00</td>\n",
       "    </tr>\n",
       "    <tr>\n",
       "      <th>12</th>\n",
       "      <td>d16f4fdef48d0ba64d75073e45d7b62ab3ec0afaf95b2b...</td>\n",
       "      <td>M</td>\n",
       "      <td>55-59</td>\n",
       "      <td>Eesti</td>\n",
       "      <td>Viljandi maakond</td>\n",
       "      <td>N</td>\n",
       "      <td>2020-03-11</td>\n",
       "      <td>2020-03-11T14:03:00+02:00</td>\n",
       "      <td>2020-03-11T17:32:21+02:00</td>\n",
       "    </tr>\n",
       "    <tr>\n",
       "      <th>13</th>\n",
       "      <td>7bedaddb6a0ae949ca2f86b396f7c8c4e93416046659ee...</td>\n",
       "      <td>M</td>\n",
       "      <td>60-64</td>\n",
       "      <td>Eesti</td>\n",
       "      <td>Harju maakond</td>\n",
       "      <td>N</td>\n",
       "      <td>2020-03-11</td>\n",
       "      <td>2020-03-09T21:49:00+02:00</td>\n",
       "      <td>2020-03-11T10:12:54+02:00</td>\n",
       "    </tr>\n",
       "    <tr>\n",
       "      <th>14</th>\n",
       "      <td>7d8c578b972490df562b9cb72c2afce24b9ee47b53bbdf...</td>\n",
       "      <td>M</td>\n",
       "      <td>15-19</td>\n",
       "      <td>Eesti</td>\n",
       "      <td>Tartu maakond</td>\n",
       "      <td>N</td>\n",
       "      <td>2020-03-11</td>\n",
       "      <td>2020-03-03T00:00:00+02:00</td>\n",
       "      <td>2020-03-11T08:48:48+02:00</td>\n",
       "    </tr>\n",
       "  </tbody>\n",
       "</table>\n",
       "</div>"
      ],
      "text/plain": [
       "                                                   id Gender AgeGroup Country  \\\n",
       "10  7148777bb25abfcf6211575c5b4c3c64e10d9f759adf9b...      M    45-49   Eesti   \n",
       "11  ded14387a0af0168c1bc7c1bfa2ccd1a91f47eb2cb7560...      N    20-24   Eesti   \n",
       "12  d16f4fdef48d0ba64d75073e45d7b62ab3ec0afaf95b2b...      M    55-59   Eesti   \n",
       "13  7bedaddb6a0ae949ca2f86b396f7c8c4e93416046659ee...      M    60-64   Eesti   \n",
       "14  7d8c578b972490df562b9cb72c2afce24b9ee47b53bbdf...      M    15-19   Eesti   \n",
       "\n",
       "              County ResultValue StatisticsDate                 ResultTime  \\\n",
       "10      Võru maakond           N     2020-03-11  2020-03-10T19:29:00+02:00   \n",
       "11     Pärnu maakond           N     2020-03-11  2020-03-03T00:00:00+02:00   \n",
       "12  Viljandi maakond           N     2020-03-11  2020-03-11T14:03:00+02:00   \n",
       "13     Harju maakond           N     2020-03-11  2020-03-09T21:49:00+02:00   \n",
       "14     Tartu maakond           N     2020-03-11  2020-03-03T00:00:00+02:00   \n",
       "\n",
       "           AnalysisInsertTime  \n",
       "10  2020-03-11T13:22:53+02:00  \n",
       "11  2020-03-11T08:49:21+02:00  \n",
       "12  2020-03-11T17:32:21+02:00  \n",
       "13  2020-03-11T10:12:54+02:00  \n",
       "14  2020-03-11T08:48:48+02:00  "
      ]
     },
     "execution_count": 12,
     "metadata": {},
     "output_type": "execute_result"
    }
   ],
   "source": [
    "df = pd.DataFrame(d)\n",
    "df[10:15]"
   ]
  },
  {
   "cell_type": "markdown",
   "metadata": {},
   "source": [
    "#### Data cleaning"
   ]
  },
  {
   "cell_type": "code",
   "execution_count": 13,
   "metadata": {},
   "outputs": [],
   "source": [
    "from aglearn import remap as rm # class has "
   ]
  },
  {
   "cell_type": "markdown",
   "metadata": {},
   "source": [
    "The ```ResultTime``` and ```AnalysisInsertTime``` are not of importance right now.\n",
    "\n",
    "For the Maakonds an identification code is used, as the Counties have a long \"Tartu maakond\" and short \"Tartumaa\" way of spelling, which might get mixed up. The dictionary is saved in the custom ```aglearn``` library. \n",
    "\n",
    "Slightly adapt the Agegroup (leading zeros).\n",
    "\n",
    "Transform the text in StatisticsDate into datetime objects."
   ]
  },
  {
   "cell_type": "code",
   "execution_count": 14,
   "metadata": {},
   "outputs": [],
   "source": [
    "df = df.drop(['ResultTime', 'AnalysisInsertTime'], axis=1) #, 'id'\n",
    "df['MKOOD'] = df['County'].map(rm.MNIMI_MKOOD)\n",
    "df['AgeGroup'] = df['AgeGroup'].map(rm.VANUSER_STR)\n",
    "df['StatisticsDate'] = pd.to_datetime(df['StatisticsDate'])"
   ]
  },
  {
   "cell_type": "code",
   "execution_count": 15,
   "metadata": {},
   "outputs": [
    {
     "data": {
      "text/html": [
       "<div>\n",
       "<style scoped>\n",
       "    .dataframe tbody tr th:only-of-type {\n",
       "        vertical-align: middle;\n",
       "    }\n",
       "\n",
       "    .dataframe tbody tr th {\n",
       "        vertical-align: top;\n",
       "    }\n",
       "\n",
       "    .dataframe thead th {\n",
       "        text-align: right;\n",
       "    }\n",
       "</style>\n",
       "<table border=\"1\" class=\"dataframe\">\n",
       "  <thead>\n",
       "    <tr style=\"text-align: right;\">\n",
       "      <th></th>\n",
       "      <th>id</th>\n",
       "      <th>Gender</th>\n",
       "      <th>AgeGroup</th>\n",
       "      <th>Country</th>\n",
       "      <th>County</th>\n",
       "      <th>ResultValue</th>\n",
       "      <th>StatisticsDate</th>\n",
       "      <th>MKOOD</th>\n",
       "    </tr>\n",
       "  </thead>\n",
       "  <tbody>\n",
       "    <tr>\n",
       "      <th>0</th>\n",
       "      <td>95013b64dd5ff18548a92eb5375d9c4a1881467390fed4...</td>\n",
       "      <td>M</td>\n",
       "      <td>10-14</td>\n",
       "      <td>Eesti</td>\n",
       "      <td>Tartu maakond</td>\n",
       "      <td>N</td>\n",
       "      <td>2020-03-10</td>\n",
       "      <td>0079</td>\n",
       "    </tr>\n",
       "    <tr>\n",
       "      <th>1</th>\n",
       "      <td>71fab95aa66a3976b9d9f2868482192fc2bb77ac07d680...</td>\n",
       "      <td>M</td>\n",
       "      <td>05-09</td>\n",
       "      <td>Eesti</td>\n",
       "      <td>Tartu maakond</td>\n",
       "      <td>N</td>\n",
       "      <td>2020-03-10</td>\n",
       "      <td>0079</td>\n",
       "    </tr>\n",
       "    <tr>\n",
       "      <th>2</th>\n",
       "      <td>e474cb8d21136013c9c90877592ee8d6b20d1bd72ef48a...</td>\n",
       "      <td>M</td>\n",
       "      <td>20-24</td>\n",
       "      <td>Eesti</td>\n",
       "      <td>Harju maakond</td>\n",
       "      <td>N</td>\n",
       "      <td>2020-03-10</td>\n",
       "      <td>0037</td>\n",
       "    </tr>\n",
       "    <tr>\n",
       "      <th>3</th>\n",
       "      <td>86a33c6965a464b3c8b754795d99b3fccab5e8349827dc...</td>\n",
       "      <td>M</td>\n",
       "      <td>35-39</td>\n",
       "      <td>Eesti</td>\n",
       "      <td>Tartu maakond</td>\n",
       "      <td>N</td>\n",
       "      <td>2020-03-10</td>\n",
       "      <td>0079</td>\n",
       "    </tr>\n",
       "    <tr>\n",
       "      <th>4</th>\n",
       "      <td>70fb213dfac6252426170b79224d399c6e613fbca07d54...</td>\n",
       "      <td>N</td>\n",
       "      <td>15-19</td>\n",
       "      <td>Eesti</td>\n",
       "      <td>Viljandi maakond</td>\n",
       "      <td>N</td>\n",
       "      <td>2020-03-10</td>\n",
       "      <td>0084</td>\n",
       "    </tr>\n",
       "  </tbody>\n",
       "</table>\n",
       "</div>"
      ],
      "text/plain": [
       "                                                  id Gender AgeGroup Country  \\\n",
       "0  95013b64dd5ff18548a92eb5375d9c4a1881467390fed4...      M    10-14   Eesti   \n",
       "1  71fab95aa66a3976b9d9f2868482192fc2bb77ac07d680...      M    05-09   Eesti   \n",
       "2  e474cb8d21136013c9c90877592ee8d6b20d1bd72ef48a...      M    20-24   Eesti   \n",
       "3  86a33c6965a464b3c8b754795d99b3fccab5e8349827dc...      M    35-39   Eesti   \n",
       "4  70fb213dfac6252426170b79224d399c6e613fbca07d54...      N    15-19   Eesti   \n",
       "\n",
       "             County ResultValue StatisticsDate MKOOD  \n",
       "0     Tartu maakond           N     2020-03-10  0079  \n",
       "1     Tartu maakond           N     2020-03-10  0079  \n",
       "2     Harju maakond           N     2020-03-10  0037  \n",
       "3     Tartu maakond           N     2020-03-10  0079  \n",
       "4  Viljandi maakond           N     2020-03-10  0084  "
      ]
     },
     "execution_count": 15,
     "metadata": {},
     "output_type": "execute_result"
    }
   ],
   "source": [
    "df.head()"
   ]
  },
  {
   "cell_type": "markdown",
   "metadata": {},
   "source": [
    "#### Export data"
   ]
  },
  {
   "cell_type": "code",
   "execution_count": 16,
   "metadata": {},
   "outputs": [],
   "source": [
    "df.to_csv(r'data/covid_digilugu_cleaned.csv')"
   ]
  },
  {
   "cell_type": "markdown",
   "metadata": {},
   "source": [
    "### Data analysis"
   ]
  },
  {
   "cell_type": "code",
   "execution_count": 17,
   "metadata": {},
   "outputs": [],
   "source": [
    "dtFormat = '%d.%m.%Y'\n",
    "dc['firstTest'] = df.StatisticsDate.min().strftime(dtFormat)\n",
    "dc['lastTest'] = df.StatisticsDate.max().strftime(dtFormat)"
   ]
  },
  {
   "cell_type": "markdown",
   "metadata": {},
   "source": [
    "#### Positive vs Negative"
   ]
  },
  {
   "cell_type": "markdown",
   "metadata": {},
   "source": [
    "The function ```value_counts()``` can be used to summarize the respective columns."
   ]
  },
  {
   "cell_type": "code",
   "execution_count": 18,
   "metadata": {},
   "outputs": [
    {
     "data": {
      "text/plain": [
       "N    189090\n",
       "P      2976\n",
       "Name: ResultValue, dtype: int64"
      ]
     },
     "execution_count": 18,
     "metadata": {},
     "output_type": "execute_result"
    }
   ],
   "source": [
    "df.ResultValue.value_counts()"
   ]
  },
  {
   "cell_type": "code",
   "execution_count": 19,
   "metadata": {},
   "outputs": [],
   "source": [
    "dc['totalPositive'] = int(df.ResultValue.value_counts()['P'])\n",
    "dc['totalNegative'] = int(df.ResultValue.value_counts()['N'])"
   ]
  },
  {
   "cell_type": "code",
   "execution_count": 20,
   "metadata": {},
   "outputs": [],
   "source": [
    "dc['percPositive'] = round(dc['totalPositive']/dc['totalTested'],4)"
   ]
  },
  {
   "cell_type": "markdown",
   "metadata": {},
   "source": [
    "#### Values Last day"
   ]
  },
  {
   "cell_type": "code",
   "execution_count": 21,
   "metadata": {},
   "outputs": [],
   "source": [
    "from datetime import datetime as dt"
   ]
  },
  {
   "cell_type": "code",
   "execution_count": 22,
   "metadata": {},
   "outputs": [
    {
     "data": {
      "text/plain": [
       "N    2826\n",
       "P      36\n",
       "Name: ResultValue, dtype: int64"
      ]
     },
     "execution_count": 22,
     "metadata": {},
     "output_type": "execute_result"
    }
   ],
   "source": [
    "res = df[df.StatisticsDate == dt.strptime(dc['lastTest'],dtFormat)].ResultValue.value_counts()\n",
    "res"
   ]
  },
  {
   "cell_type": "code",
   "execution_count": 23,
   "metadata": {},
   "outputs": [],
   "source": [
    "if 'P' in res: # in case there are no positive results :) \n",
    "    dc['prevDayConfirmed'] = int(res['P'])\n",
    "else:\n",
    "    dc['prevDayConfirmed'] = 0\n",
    "dc['prevDayTests'] = int(res['N'] + dc['prevDayConfirmed'])"
   ]
  },
  {
   "cell_type": "markdown",
   "metadata": {},
   "source": [
    "#### Timeseries Estonia"
   ]
  },
  {
   "cell_type": "markdown",
   "metadata": {},
   "source": [
    "For further statistics a one-hot encoding has to be applied on the dataset. The result is joined with the dataframe."
   ]
  },
  {
   "cell_type": "code",
   "execution_count": 24,
   "metadata": {
    "scrolled": false
   },
   "outputs": [
    {
     "data": {
      "text/html": [
       "<div>\n",
       "<style scoped>\n",
       "    .dataframe tbody tr th:only-of-type {\n",
       "        vertical-align: middle;\n",
       "    }\n",
       "\n",
       "    .dataframe tbody tr th {\n",
       "        vertical-align: top;\n",
       "    }\n",
       "\n",
       "    .dataframe thead th {\n",
       "        text-align: right;\n",
       "    }\n",
       "</style>\n",
       "<table border=\"1\" class=\"dataframe\">\n",
       "  <thead>\n",
       "    <tr style=\"text-align: right;\">\n",
       "      <th></th>\n",
       "      <th>id</th>\n",
       "      <th>Gender</th>\n",
       "      <th>AgeGroup</th>\n",
       "      <th>Country</th>\n",
       "      <th>County</th>\n",
       "      <th>ResultValue</th>\n",
       "      <th>StatisticsDate</th>\n",
       "      <th>MKOOD</th>\n",
       "      <th>negativeTests</th>\n",
       "      <th>confirmedCases</th>\n",
       "    </tr>\n",
       "  </thead>\n",
       "  <tbody>\n",
       "    <tr>\n",
       "      <th>192056</th>\n",
       "      <td>bd0bd344193869f4df3b6db1f085bddef090ebabd8c93e...</td>\n",
       "      <td>N</td>\n",
       "      <td>30-34</td>\n",
       "      <td>Eesti</td>\n",
       "      <td>Ida-Viru maakond</td>\n",
       "      <td>N</td>\n",
       "      <td>2020-09-21</td>\n",
       "      <td>0045</td>\n",
       "      <td>1</td>\n",
       "      <td>0</td>\n",
       "    </tr>\n",
       "    <tr>\n",
       "      <th>192057</th>\n",
       "      <td>760e702adadb0b1e3623a1ad9cf55df0a4d96da6016a1b...</td>\n",
       "      <td>M</td>\n",
       "      <td>40-44</td>\n",
       "      <td>Eesti</td>\n",
       "      <td>Harju maakond</td>\n",
       "      <td>N</td>\n",
       "      <td>2020-09-21</td>\n",
       "      <td>0037</td>\n",
       "      <td>1</td>\n",
       "      <td>0</td>\n",
       "    </tr>\n",
       "    <tr>\n",
       "      <th>192058</th>\n",
       "      <td>87f6a89eeaf4e16146fd241147bd64144f557e29653a8c...</td>\n",
       "      <td>M</td>\n",
       "      <td>25-29</td>\n",
       "      <td>Eesti</td>\n",
       "      <td>Jõgeva maakond</td>\n",
       "      <td>N</td>\n",
       "      <td>2020-09-21</td>\n",
       "      <td>0050</td>\n",
       "      <td>1</td>\n",
       "      <td>0</td>\n",
       "    </tr>\n",
       "    <tr>\n",
       "      <th>192059</th>\n",
       "      <td>bde06d2da915f7ad17f0b27046039f24ddf965914788df...</td>\n",
       "      <td>M</td>\n",
       "      <td>30-34</td>\n",
       "      <td>Eesti</td>\n",
       "      <td>Harju maakond</td>\n",
       "      <td>N</td>\n",
       "      <td>2020-09-21</td>\n",
       "      <td>0037</td>\n",
       "      <td>1</td>\n",
       "      <td>0</td>\n",
       "    </tr>\n",
       "    <tr>\n",
       "      <th>192060</th>\n",
       "      <td>7ffd6b173676249bfd6355f0c3ee102af524f64aef4873...</td>\n",
       "      <td>M</td>\n",
       "      <td>10-14</td>\n",
       "      <td>Eesti</td>\n",
       "      <td>Harju maakond</td>\n",
       "      <td>N</td>\n",
       "      <td>2020-09-21</td>\n",
       "      <td>0037</td>\n",
       "      <td>1</td>\n",
       "      <td>0</td>\n",
       "    </tr>\n",
       "    <tr>\n",
       "      <th>192061</th>\n",
       "      <td>ac92a7c570a781a0e8af230ce7b73a74f64a2c73fe4411...</td>\n",
       "      <td>M</td>\n",
       "      <td>05-09</td>\n",
       "      <td>Eesti</td>\n",
       "      <td>Harju maakond</td>\n",
       "      <td>N</td>\n",
       "      <td>2020-09-21</td>\n",
       "      <td>0037</td>\n",
       "      <td>1</td>\n",
       "      <td>0</td>\n",
       "    </tr>\n",
       "    <tr>\n",
       "      <th>192062</th>\n",
       "      <td>d37458fb85913f0ad30fc709e022e529d676dd8e35e6ba...</td>\n",
       "      <td>N</td>\n",
       "      <td>Tundmatu</td>\n",
       "      <td>Tundmatu</td>\n",
       "      <td></td>\n",
       "      <td>N</td>\n",
       "      <td>2020-09-21</td>\n",
       "      <td>NaN</td>\n",
       "      <td>1</td>\n",
       "      <td>0</td>\n",
       "    </tr>\n",
       "    <tr>\n",
       "      <th>192063</th>\n",
       "      <td>2df4df9c2b696c3ec8a81119fde5476143f60126942541...</td>\n",
       "      <td>M</td>\n",
       "      <td>50-54</td>\n",
       "      <td>Eesti</td>\n",
       "      <td>Harju maakond</td>\n",
       "      <td>N</td>\n",
       "      <td>2020-09-21</td>\n",
       "      <td>0037</td>\n",
       "      <td>1</td>\n",
       "      <td>0</td>\n",
       "    </tr>\n",
       "    <tr>\n",
       "      <th>192064</th>\n",
       "      <td>31a04c545de0563b0b81b98fe47899e0f5b4eab9483053...</td>\n",
       "      <td>N</td>\n",
       "      <td>10-14</td>\n",
       "      <td>Eesti</td>\n",
       "      <td>Viljandi maakond</td>\n",
       "      <td>N</td>\n",
       "      <td>2020-09-21</td>\n",
       "      <td>0084</td>\n",
       "      <td>1</td>\n",
       "      <td>0</td>\n",
       "    </tr>\n",
       "    <tr>\n",
       "      <th>192065</th>\n",
       "      <td>c826c1a844e9b33334c6f24cd15e6847cfb9879db04b63...</td>\n",
       "      <td>N</td>\n",
       "      <td>15-19</td>\n",
       "      <td>Eesti</td>\n",
       "      <td>Lääne-Viru maakond</td>\n",
       "      <td>N</td>\n",
       "      <td>2020-09-21</td>\n",
       "      <td>0060</td>\n",
       "      <td>1</td>\n",
       "      <td>0</td>\n",
       "    </tr>\n",
       "  </tbody>\n",
       "</table>\n",
       "</div>"
      ],
      "text/plain": [
       "                                                       id Gender  AgeGroup  \\\n",
       "192056  bd0bd344193869f4df3b6db1f085bddef090ebabd8c93e...      N     30-34   \n",
       "192057  760e702adadb0b1e3623a1ad9cf55df0a4d96da6016a1b...      M     40-44   \n",
       "192058  87f6a89eeaf4e16146fd241147bd64144f557e29653a8c...      M     25-29   \n",
       "192059  bde06d2da915f7ad17f0b27046039f24ddf965914788df...      M     30-34   \n",
       "192060  7ffd6b173676249bfd6355f0c3ee102af524f64aef4873...      M     10-14   \n",
       "192061  ac92a7c570a781a0e8af230ce7b73a74f64a2c73fe4411...      M     05-09   \n",
       "192062  d37458fb85913f0ad30fc709e022e529d676dd8e35e6ba...      N  Tundmatu   \n",
       "192063  2df4df9c2b696c3ec8a81119fde5476143f60126942541...      M     50-54   \n",
       "192064  31a04c545de0563b0b81b98fe47899e0f5b4eab9483053...      N     10-14   \n",
       "192065  c826c1a844e9b33334c6f24cd15e6847cfb9879db04b63...      N     15-19   \n",
       "\n",
       "         Country              County ResultValue StatisticsDate MKOOD  \\\n",
       "192056     Eesti    Ida-Viru maakond           N     2020-09-21  0045   \n",
       "192057     Eesti       Harju maakond           N     2020-09-21  0037   \n",
       "192058     Eesti      Jõgeva maakond           N     2020-09-21  0050   \n",
       "192059     Eesti       Harju maakond           N     2020-09-21  0037   \n",
       "192060     Eesti       Harju maakond           N     2020-09-21  0037   \n",
       "192061     Eesti       Harju maakond           N     2020-09-21  0037   \n",
       "192062  Tundmatu                               N     2020-09-21   NaN   \n",
       "192063     Eesti       Harju maakond           N     2020-09-21  0037   \n",
       "192064     Eesti    Viljandi maakond           N     2020-09-21  0084   \n",
       "192065     Eesti  Lääne-Viru maakond           N     2020-09-21  0060   \n",
       "\n",
       "        negativeTests  confirmedCases  \n",
       "192056              1               0  \n",
       "192057              1               0  \n",
       "192058              1               0  \n",
       "192059              1               0  \n",
       "192060              1               0  \n",
       "192061              1               0  \n",
       "192062              1               0  \n",
       "192063              1               0  \n",
       "192064              1               0  \n",
       "192065              1               0  "
      ]
     },
     "execution_count": 24,
     "metadata": {},
     "output_type": "execute_result"
    }
   ],
   "source": [
    "df1h = pd.get_dummies(df[['ResultValue']], prefix=['Results'])\n",
    "df1h = df1h.rename(columns={'Results_N' : 'negativeTests', 'Results_P' : 'confirmedCases'})\n",
    "df1h = df.join(df1h)\n",
    "df1h[-10:]"
   ]
  },
  {
   "cell_type": "code",
   "execution_count": 25,
   "metadata": {},
   "outputs": [],
   "source": [
    "newDateRange = pd.date_range(start=dt.strptime(dc['firstTest'], dtFormat), end=dt.strptime(dc['lastTest'], dtFormat), freq='1D')"
   ]
  },
  {
   "cell_type": "code",
   "execution_count": 26,
   "metadata": {},
   "outputs": [
    {
     "data": {
      "text/html": [
       "<div>\n",
       "<style scoped>\n",
       "    .dataframe tbody tr th:only-of-type {\n",
       "        vertical-align: middle;\n",
       "    }\n",
       "\n",
       "    .dataframe tbody tr th {\n",
       "        vertical-align: top;\n",
       "    }\n",
       "\n",
       "    .dataframe thead th {\n",
       "        text-align: right;\n",
       "    }\n",
       "</style>\n",
       "<table border=\"1\" class=\"dataframe\">\n",
       "  <thead>\n",
       "    <tr style=\"text-align: right;\">\n",
       "      <th></th>\n",
       "      <th>negativeTests</th>\n",
       "      <th>confirmedCases</th>\n",
       "      <th>testsPerDay</th>\n",
       "    </tr>\n",
       "  </thead>\n",
       "  <tbody>\n",
       "    <tr>\n",
       "      <th>2020-09-12</th>\n",
       "      <td>1573.0</td>\n",
       "      <td>21.0</td>\n",
       "      <td>1594.0</td>\n",
       "    </tr>\n",
       "    <tr>\n",
       "      <th>2020-09-13</th>\n",
       "      <td>1329.0</td>\n",
       "      <td>21.0</td>\n",
       "      <td>1350.0</td>\n",
       "    </tr>\n",
       "    <tr>\n",
       "      <th>2020-09-14</th>\n",
       "      <td>2211.0</td>\n",
       "      <td>23.0</td>\n",
       "      <td>2234.0</td>\n",
       "    </tr>\n",
       "    <tr>\n",
       "      <th>2020-09-15</th>\n",
       "      <td>2388.0</td>\n",
       "      <td>36.0</td>\n",
       "      <td>2424.0</td>\n",
       "    </tr>\n",
       "    <tr>\n",
       "      <th>2020-09-16</th>\n",
       "      <td>2937.0</td>\n",
       "      <td>22.0</td>\n",
       "      <td>2959.0</td>\n",
       "    </tr>\n",
       "    <tr>\n",
       "      <th>2020-09-17</th>\n",
       "      <td>2139.0</td>\n",
       "      <td>36.0</td>\n",
       "      <td>2175.0</td>\n",
       "    </tr>\n",
       "    <tr>\n",
       "      <th>2020-09-18</th>\n",
       "      <td>3133.0</td>\n",
       "      <td>59.0</td>\n",
       "      <td>3192.0</td>\n",
       "    </tr>\n",
       "    <tr>\n",
       "      <th>2020-09-19</th>\n",
       "      <td>1764.0</td>\n",
       "      <td>49.0</td>\n",
       "      <td>1813.0</td>\n",
       "    </tr>\n",
       "    <tr>\n",
       "      <th>2020-09-20</th>\n",
       "      <td>1554.0</td>\n",
       "      <td>18.0</td>\n",
       "      <td>1572.0</td>\n",
       "    </tr>\n",
       "    <tr>\n",
       "      <th>2020-09-21</th>\n",
       "      <td>2826.0</td>\n",
       "      <td>36.0</td>\n",
       "      <td>2862.0</td>\n",
       "    </tr>\n",
       "  </tbody>\n",
       "</table>\n",
       "</div>"
      ],
      "text/plain": [
       "            negativeTests  confirmedCases  testsPerDay\n",
       "2020-09-12         1573.0            21.0       1594.0\n",
       "2020-09-13         1329.0            21.0       1350.0\n",
       "2020-09-14         2211.0            23.0       2234.0\n",
       "2020-09-15         2388.0            36.0       2424.0\n",
       "2020-09-16         2937.0            22.0       2959.0\n",
       "2020-09-17         2139.0            36.0       2175.0\n",
       "2020-09-18         3133.0            59.0       3192.0\n",
       "2020-09-19         1764.0            49.0       1813.0\n",
       "2020-09-20         1554.0            18.0       1572.0\n",
       "2020-09-21         2826.0            36.0       2862.0"
      ]
     },
     "execution_count": 26,
     "metadata": {},
     "output_type": "execute_result"
    }
   ],
   "source": [
    "dfts = df1h.groupby(['StatisticsDate']).sum()\n",
    "dfts['testsPerDay'] = df1h.groupby(['StatisticsDate']).count().values[:,1]\n",
    "dfts = dfts.reindex(newDateRange)\n",
    "dfts = dfts.fillna(0)\n",
    "dfts[-10:]"
   ]
  },
  {
   "cell_type": "markdown",
   "metadata": {},
   "source": [
    "Cumulative Sums"
   ]
  },
  {
   "cell_type": "code",
   "execution_count": 27,
   "metadata": {},
   "outputs": [
    {
     "data": {
      "text/html": [
       "<div>\n",
       "<style scoped>\n",
       "    .dataframe tbody tr th:only-of-type {\n",
       "        vertical-align: middle;\n",
       "    }\n",
       "\n",
       "    .dataframe tbody tr th {\n",
       "        vertical-align: top;\n",
       "    }\n",
       "\n",
       "    .dataframe thead th {\n",
       "        text-align: right;\n",
       "    }\n",
       "</style>\n",
       "<table border=\"1\" class=\"dataframe\">\n",
       "  <thead>\n",
       "    <tr style=\"text-align: right;\">\n",
       "      <th></th>\n",
       "      <th>negativeTests</th>\n",
       "      <th>confirmedCases</th>\n",
       "      <th>testsPerDay</th>\n",
       "      <th>cumulativeNegative</th>\n",
       "      <th>cumulativePositive</th>\n",
       "      <th>testsPerformed</th>\n",
       "      <th>activeCases</th>\n",
       "    </tr>\n",
       "  </thead>\n",
       "  <tbody>\n",
       "    <tr>\n",
       "      <th>2020-09-12</th>\n",
       "      <td>1573.0</td>\n",
       "      <td>21.0</td>\n",
       "      <td>1594.0</td>\n",
       "      <td>168809.0</td>\n",
       "      <td>2676.0</td>\n",
       "      <td>171481.0</td>\n",
       "      <td>303.0</td>\n",
       "    </tr>\n",
       "    <tr>\n",
       "      <th>2020-09-13</th>\n",
       "      <td>1329.0</td>\n",
       "      <td>21.0</td>\n",
       "      <td>1350.0</td>\n",
       "      <td>170138.0</td>\n",
       "      <td>2697.0</td>\n",
       "      <td>172831.0</td>\n",
       "      <td>322.0</td>\n",
       "    </tr>\n",
       "    <tr>\n",
       "      <th>2020-09-14</th>\n",
       "      <td>2211.0</td>\n",
       "      <td>23.0</td>\n",
       "      <td>2234.0</td>\n",
       "      <td>172349.0</td>\n",
       "      <td>2720.0</td>\n",
       "      <td>175065.0</td>\n",
       "      <td>325.0</td>\n",
       "    </tr>\n",
       "    <tr>\n",
       "      <th>2020-09-15</th>\n",
       "      <td>2388.0</td>\n",
       "      <td>36.0</td>\n",
       "      <td>2424.0</td>\n",
       "      <td>174737.0</td>\n",
       "      <td>2756.0</td>\n",
       "      <td>177489.0</td>\n",
       "      <td>341.0</td>\n",
       "    </tr>\n",
       "    <tr>\n",
       "      <th>2020-09-16</th>\n",
       "      <td>2937.0</td>\n",
       "      <td>22.0</td>\n",
       "      <td>2959.0</td>\n",
       "      <td>177674.0</td>\n",
       "      <td>2778.0</td>\n",
       "      <td>180448.0</td>\n",
       "      <td>337.0</td>\n",
       "    </tr>\n",
       "    <tr>\n",
       "      <th>2020-09-17</th>\n",
       "      <td>2139.0</td>\n",
       "      <td>36.0</td>\n",
       "      <td>2175.0</td>\n",
       "      <td>179813.0</td>\n",
       "      <td>2814.0</td>\n",
       "      <td>182623.0</td>\n",
       "      <td>358.0</td>\n",
       "    </tr>\n",
       "    <tr>\n",
       "      <th>2020-09-18</th>\n",
       "      <td>3133.0</td>\n",
       "      <td>59.0</td>\n",
       "      <td>3192.0</td>\n",
       "      <td>182946.0</td>\n",
       "      <td>2873.0</td>\n",
       "      <td>185815.0</td>\n",
       "      <td>383.0</td>\n",
       "    </tr>\n",
       "    <tr>\n",
       "      <th>2020-09-19</th>\n",
       "      <td>1764.0</td>\n",
       "      <td>49.0</td>\n",
       "      <td>1813.0</td>\n",
       "      <td>184710.0</td>\n",
       "      <td>2922.0</td>\n",
       "      <td>187628.0</td>\n",
       "      <td>407.0</td>\n",
       "    </tr>\n",
       "    <tr>\n",
       "      <th>2020-09-20</th>\n",
       "      <td>1554.0</td>\n",
       "      <td>18.0</td>\n",
       "      <td>1572.0</td>\n",
       "      <td>186264.0</td>\n",
       "      <td>2940.0</td>\n",
       "      <td>189200.0</td>\n",
       "      <td>409.0</td>\n",
       "    </tr>\n",
       "    <tr>\n",
       "      <th>2020-09-21</th>\n",
       "      <td>2826.0</td>\n",
       "      <td>36.0</td>\n",
       "      <td>2862.0</td>\n",
       "      <td>189090.0</td>\n",
       "      <td>2976.0</td>\n",
       "      <td>192062.0</td>\n",
       "      <td>413.0</td>\n",
       "    </tr>\n",
       "  </tbody>\n",
       "</table>\n",
       "</div>"
      ],
      "text/plain": [
       "            negativeTests  confirmedCases  testsPerDay  cumulativeNegative  \\\n",
       "2020-09-12         1573.0            21.0       1594.0            168809.0   \n",
       "2020-09-13         1329.0            21.0       1350.0            170138.0   \n",
       "2020-09-14         2211.0            23.0       2234.0            172349.0   \n",
       "2020-09-15         2388.0            36.0       2424.0            174737.0   \n",
       "2020-09-16         2937.0            22.0       2959.0            177674.0   \n",
       "2020-09-17         2139.0            36.0       2175.0            179813.0   \n",
       "2020-09-18         3133.0            59.0       3192.0            182946.0   \n",
       "2020-09-19         1764.0            49.0       1813.0            184710.0   \n",
       "2020-09-20         1554.0            18.0       1572.0            186264.0   \n",
       "2020-09-21         2826.0            36.0       2862.0            189090.0   \n",
       "\n",
       "            cumulativePositive  testsPerformed  activeCases  \n",
       "2020-09-12              2676.0        171481.0        303.0  \n",
       "2020-09-13              2697.0        172831.0        322.0  \n",
       "2020-09-14              2720.0        175065.0        325.0  \n",
       "2020-09-15              2756.0        177489.0        341.0  \n",
       "2020-09-16              2778.0        180448.0        337.0  \n",
       "2020-09-17              2814.0        182623.0        358.0  \n",
       "2020-09-18              2873.0        185815.0        383.0  \n",
       "2020-09-19              2922.0        187628.0        407.0  \n",
       "2020-09-20              2940.0        189200.0        409.0  \n",
       "2020-09-21              2976.0        192062.0        413.0  "
      ]
     },
     "execution_count": 27,
     "metadata": {},
     "output_type": "execute_result"
    }
   ],
   "source": [
    "dfts['cumulativeNegative'] = dfts['negativeTests'].cumsum()\n",
    "dfts['cumulativePositive'] = dfts['confirmedCases'].cumsum()\n",
    "dfts['testsPerformed'] = dfts['testsPerDay'].cumsum()\n",
    "dfts['activeCases'] = dfts['confirmedCases'].rolling(14, min_periods=1).sum()\n",
    "dfts[-10:]"
   ]
  },
  {
   "cell_type": "markdown",
   "metadata": {},
   "source": [
    "Percentages "
   ]
  },
  {
   "cell_type": "code",
   "execution_count": null,
   "metadata": {
    "scrolled": true
   },
   "outputs": [],
   "source": [
    "dfts['positiveTestsPerc'] = (dfts['confirmedCases' ]/dfts['testsPerDay']).round(4)\n",
    "dfts['positiveTestsPercCum'] = (dfts['cumulativePositive' ]/dfts['testsPerformed']).round(4)\n",
    "dfts.loc[dfts.index[-1], 'lastFeature'] = 1\n",
    "dfts = dfts.reset_index().rename(columns={'index':'StatisticsDate'})\n",
    "dfts"
   ]
  },
  {
   "cell_type": "markdown",
   "metadata": {},
   "source": [
    "#### Timeseries Maakond"
   ]
  },
  {
   "cell_type": "code",
   "execution_count": 29,
   "metadata": {},
   "outputs": [
    {
     "data": {
      "text/plain": [
       "['Tartu maakond',\n",
       " 'Harju maakond',\n",
       " 'Viljandi maakond',\n",
       " 'Valga maakond',\n",
       " 'Võru maakond',\n",
       " 'Pärnu maakond',\n",
       " 'Jõgeva maakond',\n",
       " 'Lääne maakond',\n",
       " 'Saare maakond',\n",
       " 'Lääne-Viru maakond',\n",
       " 'Põlva maakond',\n",
       " 'Ida-Viru maakond',\n",
       " 'Rapla maakond',\n",
       " 'Hiiu maakond',\n",
       " 'Järva maakond']"
      ]
     },
     "execution_count": 29,
     "metadata": {},
     "output_type": "execute_result"
    }
   ],
   "source": [
    "counties = list(df1h['County'].unique())\n",
    "counties.remove('')\n",
    "counties"
   ]
  },
  {
   "cell_type": "code",
   "execution_count": null,
   "metadata": {
    "scrolled": true
   },
   "outputs": [],
   "source": [
    "i = 0\n",
    "for county in counties:\n",
    "    dftsm0 = df1h.loc[df1h['County'] == county] # select a subset \n",
    "    dftsm = dftsm0.groupby(['StatisticsDate']).sum() # group by date and county\n",
    "    dftsm['testsPerDay'] = dftsm0.groupby(['StatisticsDate']).count().values[:,1]\n",
    "    dftsm = dftsm.reindex(newDateRange)\n",
    "    dftsm = dftsm.fillna(0)\n",
    "    dftsm['cumulativeNegative'] = dftsm['negativeTests'].cumsum()\n",
    "    dftsm['cumulativePositive'] = dftsm['confirmedCases'].cumsum()\n",
    "    dftsm['testsPerformed'] = dftsm['testsPerDay'].cumsum()\n",
    "    dftsm['activeCases'] = dftsm['confirmedCases'].rolling(14, min_periods=1).sum()\n",
    "    dftsm.loc[dftsm.index[-1], 'lastFeature'] = 1\n",
    "    dftsm['County'] = county\n",
    "    #dftsm['MKOOD'] = rm.MNIMI_MKOOD[county]\n",
    "    if i == 0:\n",
    "        dftsm_all = dftsm\n",
    "        i += 1\n",
    "    else:\n",
    "        dftsm_all = dftsm_all.append(dftsm)\n",
    "dftsm_all['positiveTestsPerc'] = (dftsm_all['confirmedCases' ]/dftsm_all['testsPerDay']).round(4)\n",
    "dftsm_all['positiveTestsPercCum'] = (dftsm_all['cumulativePositive' ]/dftsm_all['testsPerformed']).round(4)\n",
    "dftsm_all = dftsm_all.reset_index().rename(columns={'index':'StatisticsDate'})\n",
    "dftsm_all"
   ]
  },
  {
   "cell_type": "markdown",
   "metadata": {},
   "source": [
    "#### New Cases in the Last 14 days\n",
    "This value can roughly be used to estimate the number of active cases. However, it neglects the hospitalized cases, which may have a significantly longer course of healing. This number shall be considered with care."
   ]
  },
  {
   "cell_type": "code",
   "execution_count": 31,
   "metadata": {},
   "outputs": [],
   "source": [
    "from datetime import timedelta as td"
   ]
  },
  {
   "cell_type": "code",
   "execution_count": 32,
   "metadata": {},
   "outputs": [
    {
     "name": "stdout",
     "output_type": "stream",
     "text": [
      "New Cases in last 14d: 413.0\n"
     ]
    }
   ],
   "source": [
    "val14d = dfts.loc[dfts['StatisticsDate'] > dfts['StatisticsDate'].max() - td(days=14)]['confirmedCases'].sum()\n",
    "dc['sumLast14D'] = val14d\n",
    "print('New Cases in last 14d: {}'.format(val14d))"
   ]
  },
  {
   "cell_type": "markdown",
   "metadata": {},
   "source": [
    "### Export Final Data"
   ]
  },
  {
   "cell_type": "markdown",
   "metadata": {},
   "source": [
    "In the dictionary ```dc``` all the derived statistics are stored."
   ]
  },
  {
   "cell_type": "code",
   "execution_count": 33,
   "metadata": {
    "scrolled": true
   },
   "outputs": [
    {
     "data": {
      "text/plain": [
       "{'totalTested': 192066,\n",
       " 'lastUpdate': '22.09.2020 10:27:36',\n",
       " 'firstTest': '05.02.2020',\n",
       " 'lastTest': '21.09.2020',\n",
       " 'totalPositive': 2976,\n",
       " 'totalNegative': 189090,\n",
       " 'percPositive': 0.0155,\n",
       " 'prevDayConfirmed': 36,\n",
       " 'prevDayTests': 2862,\n",
       " 'sumLast14D': 413.0}"
      ]
     },
     "execution_count": 33,
     "metadata": {},
     "output_type": "execute_result"
    }
   ],
   "source": [
    "dc"
   ]
  },
  {
   "cell_type": "code",
   "execution_count": 34,
   "metadata": {},
   "outputs": [],
   "source": [
    "import json"
   ]
  },
  {
   "cell_type": "code",
   "execution_count": 35,
   "metadata": {},
   "outputs": [],
   "source": [
    "with open(r'data/cov_stats_eesti.json', 'w') as f:\n",
    "    json.dump(dc, f, indent=4)"
   ]
  },
  {
   "cell_type": "markdown",
   "metadata": {},
   "source": [
    "The dataframe ```dfts``` contains the timeseries for whole Estonia."
   ]
  },
  {
   "cell_type": "code",
   "execution_count": null,
   "metadata": {
    "scrolled": true
   },
   "outputs": [],
   "source": [
    "dfts"
   ]
  },
  {
   "cell_type": "code",
   "execution_count": 37,
   "metadata": {},
   "outputs": [],
   "source": [
    "#dfts = dfts.reset_index()\n",
    "#dfts = dfts.rename(column={})\n",
    "dfts.to_csv(r'data/cov_ts_eesti.csv', index=False)"
   ]
  },
  {
   "cell_type": "markdown",
   "metadata": {},
   "source": [
    "The dataframe ```dftsm_all``` contains the timeseries for each County."
   ]
  },
  {
   "cell_type": "code",
   "execution_count": null,
   "metadata": {
    "scrolled": false
   },
   "outputs": [],
   "source": [
    "dftsm_all"
   ]
  },
  {
   "cell_type": "code",
   "execution_count": 39,
   "metadata": {},
   "outputs": [],
   "source": [
    "dftsm_all.to_csv(r'data/ts_maakond.csv', index=False)"
   ]
  }
 ],
 "metadata": {
  "kernelspec": {
   "display_name": "Python 3",
   "language": "python",
   "name": "python3"
  },
  "language_info": {
   "codemirror_mode": {
    "name": "ipython",
    "version": 3
   },
   "file_extension": ".py",
   "mimetype": "text/x-python",
   "name": "python",
   "nbconvert_exporter": "python",
   "pygments_lexer": "ipython3",
   "version": "3.6.7"
  }
 },
 "nbformat": 4,
 "nbformat_minor": 2
}
