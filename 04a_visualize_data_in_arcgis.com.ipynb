{
 "cells": [
  {
   "cell_type": "markdown",
   "metadata": {},
   "source": [
    "# Visualize Data in ArcGIS Online"
   ]
  },
  {
   "cell_type": "markdown",
   "metadata": {},
   "source": [
    "Aim of this workflow is the creation of ArcGIS Dashboard: ![Final Dashboard](img/04_dashboard.png) \n",
    "In the previous steps, the required layers were uploaded into ArcGIS Online. Now, these will be added to a webmap, which is being used in ArcGIS Dashboard."
   ]
  },
  {
   "cell_type": "code",
   "execution_count": 2,
   "metadata": {},
   "outputs": [],
   "source": [
    "from IPython.display import Video"
   ]
  },
  {
   "cell_type": "markdown",
   "metadata": {},
   "source": [
    "## Add WebLayer to WebMap"
   ]
  },
  {
   "cell_type": "markdown",
   "metadata": {},
   "source": [
    "In the following clip it is demonstrated how to add the recently uploaded WebLayer to ArcGIS Webmap.\n",
    "(To access the clip, clone and access the Notebook locally, or click [here](https://github.com/MBennGit/agcovdemo/blob/master/img/04_1_TimeEnabled_Webmap.mp4?raw=true).) "
   ]
  },
  {
   "cell_type": "code",
   "execution_count": 3,
   "metadata": {},
   "outputs": [
    {
     "data": {
      "text/html": [
       "<video src=\"img/04_1_TimeEnabled_Webmap.mp4\" controls  width=\"960\" >\n",
       "      Your browser does not support the <code>video</code> element.\n",
       "    </video>"
      ],
      "text/plain": [
       "<IPython.core.display.Video object>"
      ]
     },
     "execution_count": 3,
     "metadata": {},
     "output_type": "execute_result"
    }
   ],
   "source": [
    "Video(r\"img/04_1_TimeEnabled_Webmap.mp4\", width=960)"
   ]
  },
  {
   "cell_type": "markdown",
   "metadata": {},
   "source": [
    "Add additional labels for each of the Counties. For that, the county layer is copied and made invisible. The time filtering is disabled.  A custom expression is created for the label, representing the latest number of confirmed cases. (click [here](https://github.com/MBennGit/agcovdemo/blob/master/img/04_3_addLabels.mp4?raw=true) to access the clip) "
   ]
  },
  {
   "cell_type": "code",
   "execution_count": 4,
   "metadata": {},
   "outputs": [
    {
     "data": {
      "text/html": [
       "<video src=\"img/04_3_addLabels.mp4\" controls  width=\"960\" >\n",
       "      Your browser does not support the <code>video</code> element.\n",
       "    </video>"
      ],
      "text/plain": [
       "<IPython.core.display.Video object>"
      ]
     },
     "execution_count": 4,
     "metadata": {},
     "output_type": "execute_result"
    }
   ],
   "source": [
    "Video(r\"img/04_3_addLabels.mp4\", width=960)"
   ]
  },
  {
   "cell_type": "markdown",
   "metadata": {},
   "source": [
    "## Create ArcGIS Dashboard from Webmap"
   ]
  },
  {
   "cell_type": "markdown",
   "metadata": {},
   "source": [
    "The created Webmap is used as a base for the ArcGIS Dashboard. In the following 2 Indicator graphs and 2 serial charts are added to the Dashboard. A List gives overview about the counties. (click [here](https://github.com/MBennGit/agcovdemo/blob/master/img/04_2_Create_Dashboard.mp4?raw=true) to access the clip) "
   ]
  },
  {
   "cell_type": "code",
   "execution_count": 5,
   "metadata": {},
   "outputs": [
    {
     "data": {
      "text/html": [
       "<video src=\"img/04_2_Create_Dashboard.mp4\" controls  width=\"960\" >\n",
       "      Your browser does not support the <code>video</code> element.\n",
       "    </video>"
      ],
      "text/plain": [
       "<IPython.core.display.Video object>"
      ]
     },
     "execution_count": 5,
     "metadata": {},
     "output_type": "execute_result"
    }
   ],
   "source": [
    "Video(r\"img/04_2_Create_Dashboard.mp4\", width=960)"
   ]
  },
  {
   "cell_type": "markdown",
   "metadata": {},
   "source": [
    "### Add Demographic data and filtering"
   ]
  },
  {
   "cell_type": "markdown",
   "metadata": {},
   "source": [
    "Another Bar Chart (serial chart) is added to the dashboard to represent the different AgeGroups. Two filters are applied between the different charts and map. (click [here](./img/04_4_add_Agegroups.mp4?raw=true) to access the clip)"
   ]
  },
  {
   "cell_type": "code",
   "execution_count": 8,
   "metadata": {},
   "outputs": [
    {
     "data": {
      "text/html": [
       "<video src=\"img/04_4_add_Agegroups.mp4\" controls  width=\"960\" >\n",
       "      Your browser does not support the <code>video</code> element.\n",
       "    </video>"
      ],
      "text/plain": [
       "<IPython.core.display.Video object>"
      ]
     },
     "execution_count": 8,
     "metadata": {},
     "output_type": "execute_result"
    }
   ],
   "source": [
    "Video(r\"img/04_4_add_Agegroups.mp4\", width=960)"
   ]
  }
 ],
 "metadata": {
  "kernelspec": {
   "display_name": "Python 3",
   "language": "python",
   "name": "python3"
  },
  "language_info": {
   "codemirror_mode": {
    "name": "ipython",
    "version": 3
   },
   "file_extension": ".py",
   "mimetype": "text/x-python",
   "name": "python",
   "nbconvert_exporter": "python",
   "pygments_lexer": "ipython3",
   "version": "3.6.9"
  }
 },
 "nbformat": 4,
 "nbformat_minor": 2
}
