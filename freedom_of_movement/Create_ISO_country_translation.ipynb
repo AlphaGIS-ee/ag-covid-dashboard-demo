{
 "cells": [
  {
   "cell_type": "markdown",
   "metadata": {},
   "source": [
    "# Getting and combining ISO Country codes from Wikipedia\n",
    "\n",
    "Collect the data from two Wikipedia pages, one in English, one in Estonian and create a translation dictionary."
   ]
  },
  {
   "cell_type": "code",
   "execution_count": 2,
   "metadata": {},
   "outputs": [],
   "source": [
    "from bs4 import BeautifulSoup\n",
    "import re\n",
    "import requests"
   ]
  },
  {
   "cell_type": "markdown",
   "metadata": {},
   "source": [
    "## Getting the Estonian ISO List from Wikipedia"
   ]
  },
  {
   "cell_type": "code",
   "execution_count": 3,
   "metadata": {},
   "outputs": [],
   "source": [
    "url = r'https://et.wikipedia.org/wiki/ISO_maakoodide_loend'\n",
    "\n",
    "r = requests.get(url)\n",
    "soup = BeautifulSoup(r.text, features=\"html.parser\")"
   ]
  },
  {
   "cell_type": "markdown",
   "metadata": {},
   "source": [
    "Collect all the tables and select the correct one."
   ]
  },
  {
   "cell_type": "code",
   "execution_count": 7,
   "metadata": {},
   "outputs": [
    {
     "data": {
      "text/plain": [
       "[<tr>\n",
       " <td><img alt=\"Afganistan\" class=\"thumbborder\" data-file-height=\"600\" data-file-width=\"900\" decoding=\"async\" height=\"15\" src=\"//upload.wikimedia.org/wikipedia/commons/thumb/9/9a/Flag_of_Afghanistan.svg/23px-Flag_of_Afghanistan.svg.png\" srcset=\"//upload.wikimedia.org/wikipedia/commons/thumb/9/9a/Flag_of_Afghanistan.svg/35px-Flag_of_Afghanistan.svg.png 1.5x, //upload.wikimedia.org/wikipedia/commons/thumb/9/9a/Flag_of_Afghanistan.svg/46px-Flag_of_Afghanistan.svg.png 2x\" title=\"Afganistan\" width=\"23\"/> <a href=\"/wiki/Afganistan\" title=\"Afganistan\">Afganistan</a>\n",
       " </td>\n",
       " <td width=\"30px\"><tt>AF</tt></td>\n",
       " <td><tt>AFG</tt></td>\n",
       " <td><tt>004</tt></td>\n",
       " <td><a class=\"new\" href=\"/w/index.php?title=ISO_3166-2:AF&amp;action=edit&amp;redlink=1\" title=\"ISO 3166-2:AF (pole veel kirjutatud)\">ISO 3166-2:AF</a>\n",
       " </td></tr>]"
      ]
     },
     "execution_count": 7,
     "metadata": {},
     "output_type": "execute_result"
    }
   ],
   "source": [
    "tables = soup.find_all('table')\n",
    "table = tables[0] # selecte the first table\n",
    "trs = table.find_all('tr') # find all table rows\n",
    "trs[1:2] # first line is a header, data starts from second."
   ]
  },
  {
   "cell_type": "markdown",
   "metadata": {},
   "source": [
    "Now for all rows do:\n",
    "1. Find the table cells\n",
    "2. Extract the ISO 2-digit code\n",
    "3. Create a dictionary entry (key = 2-digit code) with the Country name."
   ]
  },
  {
   "cell_type": "code",
   "execution_count": 9,
   "metadata": {},
   "outputs": [
    {
     "data": {
      "text/plain": [
       "{'AF': {'ee': 'Afganistan'},\n",
       " 'AX': {'ee': 'Ahvenamaa'},\n",
       " 'AL': {'ee': 'Albaania'},\n",
       " 'DZ': {'ee': 'Alžeeria'},\n",
       " 'AS': {'ee': 'Ameerika Samoa'}}"
      ]
     },
     "execution_count": 9,
     "metadata": {},
     "output_type": "execute_result"
    }
   ],
   "source": [
    "a2_dct = {} # empty dictionary\n",
    "for tr in trs[1:]: # all table rows except headline\n",
    "    tds = tr.find_all('td') # find all table cells in row\n",
    "    a2 = tds[1].text # extract the text of the second one (2-digit code)\n",
    "    a2_dct[a2] = {'ee' : tds[0].text.rstrip('\\n').lstrip()} # create dictionary entry \n",
    "dict(list(a2_dct.items())[0:5]) # print first 5 entries"
   ]
  },
  {
   "cell_type": "markdown",
   "metadata": {},
   "source": [
    "## Getting the English ISO List from Wikipedia"
   ]
  },
  {
   "cell_type": "markdown",
   "metadata": {},
   "source": [
    "Same approach here. Get webpage, find tables, select the right one."
   ]
  },
  {
   "cell_type": "code",
   "execution_count": 10,
   "metadata": {},
   "outputs": [],
   "source": [
    "url = r'https://en.wikipedia.org/wiki/ISO_3166-1'\n",
    "\n",
    "r = requests.get(url)\n",
    "soup = BeautifulSoup(r.text, features=\"html.parser\")"
   ]
  },
  {
   "cell_type": "code",
   "execution_count": 14,
   "metadata": {},
   "outputs": [
    {
     "data": {
      "text/plain": [
       "[<tr>\n",
       " <td><span class=\"flagicon\"><img alt=\"\" class=\"thumbborder\" data-file-height=\"600\" data-file-width=\"900\" decoding=\"async\" height=\"15\" src=\"//upload.wikimedia.org/wikipedia/commons/thumb/9/9a/Flag_of_Afghanistan.svg/23px-Flag_of_Afghanistan.svg.png\" srcset=\"//upload.wikimedia.org/wikipedia/commons/thumb/9/9a/Flag_of_Afghanistan.svg/35px-Flag_of_Afghanistan.svg.png 1.5x, //upload.wikimedia.org/wikipedia/commons/thumb/9/9a/Flag_of_Afghanistan.svg/45px-Flag_of_Afghanistan.svg.png 2x\" width=\"23\"/></span> <a href=\"/wiki/Afghanistan\" title=\"Afghanistan\">Afghanistan</a>\n",
       " </td>\n",
       " <td><a href=\"/wiki/ISO_3166-1_alpha-2#AF\" title=\"ISO 3166-1 alpha-2\"><link href=\"mw-data:TemplateStyles:r886049734\" rel=\"mw-deduplicated-inline-style\"/><span class=\"monospaced\">AF</span></a></td>\n",
       " <td><link href=\"mw-data:TemplateStyles:r886049734\" rel=\"mw-deduplicated-inline-style\"/><span class=\"monospaced\">AFG</span></td>\n",
       " <td><link href=\"mw-data:TemplateStyles:r886049734\" rel=\"mw-deduplicated-inline-style\"/><span class=\"monospaced\">004</span></td>\n",
       " <td><a href=\"/wiki/ISO_3166-2:AF\" title=\"ISO 3166-2:AF\">ISO 3166-2:AF</a></td>\n",
       " <td class=\"table-yes\" style=\"background:#9F9;vertical-align:middle;text-align:center;\">Yes\n",
       " </td></tr>]"
      ]
     },
     "execution_count": 14,
     "metadata": {},
     "output_type": "execute_result"
    }
   ],
   "source": [
    "tables = soup.find_all('table')\n",
    "table = tables[1] # here it is the second table on the webpage\n",
    "\n",
    "trs = table.find_all('tr') # find all the rows\n",
    "trs[1:2] # show first entry"
   ]
  },
  {
   "cell_type": "markdown",
   "metadata": {},
   "source": [
    "Fill the data to the previously created dictionary with Estonian country names."
   ]
  },
  {
   "cell_type": "code",
   "execution_count": 15,
   "metadata": {},
   "outputs": [
    {
     "data": {
      "text/plain": [
       "{'AF': {'ee': 'Afganistan', 'en': 'Afghanistan'},\n",
       " 'AX': {'ee': 'Ahvenamaa', 'en': 'Åland Islands'},\n",
       " 'AL': {'ee': 'Albaania', 'en': 'Albania'},\n",
       " 'DZ': {'ee': 'Alžeeria', 'en': 'Algeria'},\n",
       " 'AS': {'ee': 'Ameerika Samoa', 'en': 'American Samoa'}}"
      ]
     },
     "execution_count": 15,
     "metadata": {},
     "output_type": "execute_result"
    }
   ],
   "source": [
    "for tr in trs[1:]:\n",
    "    tds = tr.find_all('td')\n",
    "    a2 = tds[1].text\n",
    "    if a2 not in a2_dct:\n",
    "        a2_dct[a2] = {}\n",
    "    a2_dct[a2]['en'] = tds[0].text.rstrip('\\n').lstrip() # create new \"en\" key in 2-digit key\n",
    "dict(list(a2_dct.items())[0:5]) # print first 5 entries"
   ]
  }
 ],
 "metadata": {
  "kernelspec": {
   "display_name": "Python 3",
   "language": "python",
   "name": "python3"
  },
  "language_info": {
   "codemirror_mode": {
    "name": "ipython",
    "version": 3
   },
   "file_extension": ".py",
   "mimetype": "text/x-python",
   "name": "python",
   "nbconvert_exporter": "python",
   "pygments_lexer": "ipython3",
   "version": "3.6.7"
  }
 },
 "nbformat": 4,
 "nbformat_minor": 4
}
