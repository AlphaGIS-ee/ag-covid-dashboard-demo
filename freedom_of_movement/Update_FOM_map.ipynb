{
 "cells": [
  {
   "cell_type": "markdown",
   "metadata": {},
   "source": [
    "# Create a map of Countries with current travel restrictions"
   ]
  },
  {
   "cell_type": "markdown",
   "metadata": {},
   "source": [
    "**Define and get the website (estonian version)**\n",
    "\n",
    "We are using [requests](https://requests.readthedocs.io/en/master/) to download the webpage, and the [BeautifulSoup](https://www.crummy.com/software/BeautifulSoup/bs4/doc/) package to parse the source code of the webpage."
   ]
  },
  {
   "cell_type": "code",
   "execution_count": 2,
   "metadata": {},
   "outputs": [],
   "source": [
    "import requests\n",
    "from bs4 import BeautifulSoup\n",
    "\n",
    "url = r'https://vm.ee/et/teave-riikide-ja-liikumispiirangute-kohta-eestisse-saabujatele'\n",
    "\n",
    "r = requests.get(url)\n",
    "soup = BeautifulSoup(r.text, features=\"html.parser\")"
   ]
  },
  {
   "cell_type": "markdown",
   "metadata": {},
   "source": [
    "**Regex to find dates and current timeframe**\n",
    "\n",
    "The data on the website is subject to change. The format can change with a new update, so the information we are looking for might be in a different position, or it has to be extracted from text. Right now, the website stores the last-update information on and the valid time frame in the text, in the format of: \n",
    "\n",
    "```DD.MM-DD.MM.YYYY (seisuga DD.MM.YYYY)```\n",
    "\n",
    "The text might change at some point, but for now we can use regular expressions to extract the data."
   ]
  },
  {
   "cell_type": "code",
   "execution_count": 3,
   "metadata": {},
   "outputs": [],
   "source": [
    "import re"
   ]
  },
  {
   "cell_type": "markdown",
   "metadata": {},
   "source": [
    "These are the too regular expressions we need. The first one extracts the time the data has been released/updated. The second contains the time interval of validity. Regular expression have been drafted on [RegExr](https://regexr.com/). Note, that as soon the text changes on the webite, the regular expression might need to be updated. They are somewhat dynamic (leading 0), but not entirely."
   ]
  },
  {
   "cell_type": "code",
   "execution_count": 4,
   "metadata": {},
   "outputs": [],
   "source": [
    "# Compiling to search for \"seisuga DD.MM.YYYY\"\n",
    "p1 = re.compile(r'seisuga\\s+((?:[0]?[1-9]|[1|2][0-9]|[3][0|1])[.](?:[0]?[1-9]|[1][0-2])[.](?:[0-9]{4}|[0-9]{2}))?')\n",
    "\n",
    "# Compiling to search for \"DD.MM-DD.MM.YYYY\"\n",
    "p2 = re.compile(r'((?:[0]?[1-9]|[1|2][0-9]|[3][0|1])[.](?:[0]?[1-9]|[1][0-2])[.]?(?:[0-9]{4}|[0-9]{2})?)-\\s*((?:[0]?[1-9]|[1|2][0-9]|[3][0|1])[.](?:[0]?[1-9]|[1][0-2])[.](?:[0-9]{4}|[0-9]{2}))?')"
   ]
  },
  {
   "cell_type": "markdown",
   "metadata": {},
   "source": [
    "Finding and parsing the Dates."
   ]
  },
  {
   "cell_type": "code",
   "execution_count": 5,
   "metadata": {},
   "outputs": [
    {
     "name": "stdout",
     "output_type": "stream",
     "text": [
      "The website has been updated on 18.09.2020, the current values are valid from 21.09.2020 to 27.09.2020.\n"
     ]
    }
   ],
   "source": [
    "import datetime\n",
    "from dateutil.parser import parse\n",
    "\n",
    "li = soup.find(text=p1) # look for list entries (explanation below)\n",
    "\n",
    "# Day of release (last update)\n",
    "up_date = datetime.datetime.strptime(p1.findall(li)[0], '%d.%m.%Y')\n",
    "\n",
    "# Validity period\n",
    "valid_from = parse(p2.findall(li)[0][0])\n",
    "valid_to = parse(p2.findall(li)[0][1])\n",
    "\n",
    "# Print to check if it has been extracted properly\n",
    "print(\"The website has been updated on {}, the current values are valid from {} to {}.\".format(up_date.strftime('%d.%m.%Y'), \n",
    "                                                                                             valid_from.strftime('%d.%m.%Y'),\n",
    "                                                                                             valid_to.strftime('%d.%m.%Y')))"
   ]
  },
  {
   "cell_type": "markdown",
   "metadata": {},
   "source": [
    "## Finding countries in the text"
   ]
  },
  {
   "cell_type": "markdown",
   "metadata": {},
   "source": [
    "In the config.py file in the same folder a dictionary has been created containing all the countries, their English and Estonian translation, matched together by their 2-digit Country code. ([en](https://en.wikipedia.org/wiki/ISO_3166-1), [ee](https://et.wikipedia.org/wiki/ISO_maakoodide_loend))."
   ]
  },
  {
   "cell_type": "markdown",
   "metadata": {},
   "source": [
    "The file can be imported as a package, and the containing dictionary is assigned to a variable."
   ]
  },
  {
   "cell_type": "code",
   "execution_count": 6,
   "metadata": {},
   "outputs": [
    {
     "data": {
      "text/plain": [
       "{'AF': {'ee': 'Afganistan', 'en': 'Afghanistan'},\n",
       " 'AX': {'ee': 'Ahvenamaa', 'en': 'Åland Islands'},\n",
       " 'AL': {'ee': 'Albaania', 'en': 'Albania'},\n",
       " 'DZ': {'ee': 'Alžeeria', 'en': 'Algeria'},\n",
       " 'AS': {'ee': 'Ameerika Samoa', 'en': 'American Samoa'}}"
      ]
     },
     "execution_count": 6,
     "metadata": {},
     "output_type": "execute_result"
    }
   ],
   "source": [
    "import config as cfg\n",
    "a2_dct = cfg.a2_dct\n",
    "\n",
    "dict(list(a2_dct.items())[0:5])"
   ]
  },
  {
   "cell_type": "markdown",
   "metadata": {},
   "source": [
    "### Finding the section containing EU-countries"
   ]
  },
  {
   "cell_type": "markdown",
   "metadata": {},
   "source": [
    "The webpage has different sections, which are all subject to change. The sections are defined by [```<ul>```-tags](https://www.w3schools.com/tags/tag_ul.asp) (unordered lists), containing [```<li>```-items](https://www.w3schools.com/tags/tag_li.asp) (list items). We can use BeautifulSoup to find the unordered lists in the website."
   ]
  },
  {
   "cell_type": "code",
   "execution_count": 7,
   "metadata": {},
   "outputs": [
    {
     "name": "stdout",
     "output_type": "stream",
     "text": [
      "There are 33 unordered lists defined in the website, in total they contain 233 list items.\n"
     ]
    }
   ],
   "source": [
    "uls = soup.find_all('ul')\n",
    "ils = soup.find_all('li')\n",
    "print(\"There are {} unordered lists defined in the website, in total they contain {} list items.\".format(len(uls),len(ils)))"
   ]
  },
  {
   "cell_type": "markdown",
   "metadata": {},
   "source": [
    "At this stage a bit of manual data exploration is advised. We need to find the unordered list, which contains the data we are looking for (list of EU-countries and their respective active cases / 100k inhabitants). This can certainly be automized, but as long it doesn't change permanently, it is easier to just select the right list. "
   ]
  },
  {
   "cell_type": "code",
   "execution_count": 8,
   "metadata": {},
   "outputs": [
    {
     "data": {
      "text/plain": [
       "<ul>\n",
       "<li><span class=\"node-text-color-red\"><strong>Andorra 313,7</strong></span></li>\n",
       "<li><span class=\"node-text-color-red\"><strong>Austria 88,9</strong></span></li>\n",
       "<li><span class=\"node-text-color-red\"><strong>Belgia 93,4</strong></span></li>\n",
       "<li><span class=\"node-text-color-red\"><strong>Bulgaaria 27,5</strong></span></li>\n",
       "<li><span class=\"node-text-color-red\"><strong>Hispaania 292,2</strong></span></li>\n",
       "<li><span class=\"node-text-color-red\"><strong>Holland 90,2</strong></span></li>\n",
       "<li><span class=\"node-text-color-red\"><strong>Horvaatia 78,1</strong></span></li>\n",
       "<li><span class=\"node-text-color-red\"><strong>Iirimaa 57,4</strong></span></li>\n",
       "<li>\n",
       "<p><span class=\"node-text-color-red\"><strong>Island 21,9</strong></span></p>\n",
       "</li>\n",
       "<li><span class=\"node-text-color-red\"><strong>Itaalia 33,3</strong></span></li>\n",
       "<li><span class=\"node-text-color-red\"><strong>Kreeka 31,7</strong></span></li>\n",
       "<li><strong>Küpros 6,9</strong></li>\n",
       "<li><span class=\"node-text-color-red\"><strong>Leedu 18,8**</strong></span></li>\n",
       "<li><strong>Liechtenstein 7,8</strong></li>\n",
       "<li><span class=\"node-text-color-red\"><strong>Luksemburg 129,7</strong></span></li>\n",
       "<li><strong>Läti 4,4</strong></li>\n",
       "<li><span class=\"node-text-color-red\"><strong>Malta 127,2</strong></span></li>\n",
       "<li><strong><span class=\"node-text-color-red\">Monaco </span></strong><strong><span class=\"node-text-color-red\">117,9</span></strong></li>\n",
       "<li><span class=\"node-text-color-red\"><strong>Norra 27,5</strong></span></li>\n",
       "<li><strong style=\"color: rgb(189, 73, 50);\">Poola 19,6</strong></li>\n",
       "<li><span class=\"node-text-color-red\"><strong>Portugal 71,5</strong></span></li>\n",
       "<li><span class=\"node-text-color-red\"><strong>Prantsusmaa 172,1</strong></span></li>\n",
       "<li><span class=\"node-text-color-red\"><strong>Rootsi 30,3</strong></span></li>\n",
       "<li><span class=\"node-text-color-red\"><strong>Rumeenia 89,8</strong></span></li>\n",
       "<li><span class=\"node-text-color-red\"><strong>Saksamaa 24,3</strong></span></li>\n",
       "<li><span class=\"node-text-color-red\"><strong>San Marino 23,2</strong></span></li>\n",
       "<li><span class=\"node-text-color-red\"><strong>Slovakkia 34,1</strong></span></li>\n",
       "<li><span class=\"node-text-color-red\"><strong>Sloveenia 48,9</strong></span></li>\n",
       "<li><strong>Soome 10,9</strong></li>\n",
       "<li><span class=\"node-text-color-red\"><strong>Šveits 65,0</strong></span></li>\n",
       "<li><span class=\"node-text-color-red\"><strong>Taani 69,2</strong></span></li>\n",
       "<li><span class=\"node-text-color-red\"><strong>Tšehhi 166,2</strong></span></li>\n",
       "<li><span class=\"node-text-color-red\"><strong>Ungari 94,0</strong></span></li>\n",
       "<li><strong>Vatikan 0,0</strong></li>\n",
       "<li><strong><span class=\"node-text-color-red\">Ühendkuningriik 61,8</span></strong></li>\n",
       "</ul>"
      ]
     },
     "execution_count": 8,
     "metadata": {},
     "output_type": "execute_result"
    }
   ],
   "source": [
    "# The list we are after is currently the 20 list out of 33.\n",
    "ul1 = soup.find_all('ul')[20]\n",
    "ul1"
   ]
  },
  {
   "cell_type": "markdown",
   "metadata": {},
   "source": [
    "In the printed section we can find all the data we are looking for. Unfortunately the formatting is not homogeneous, which will make extraction a bit more tedious. There are different ```<span>``` classes, and various use cases of the ```<strong>``` tag, which indicate whether the 2-week quarantine rule applies or not. "
   ]
  },
  {
   "cell_type": "markdown",
   "metadata": {},
   "source": [
    "#### Regular expressions"
   ]
  },
  {
   "cell_type": "markdown",
   "metadata": {},
   "source": [
    "Before we are going to loop through all the countries, we are testing our detection. The following command is used to find the country and the number. Note, that the regular expression contains the option for several spaces ```\\s*``` (sometimes there is more than one), and the option for decimal number or not ```([,]\\d)?```."
   ]
  },
  {
   "cell_type": "code",
   "execution_count": 9,
   "metadata": {},
   "outputs": [
    {
     "data": {
      "text/plain": [
       "'Prantsusmaa 172,1'"
      ]
     },
     "execution_count": 9,
     "metadata": {},
     "output_type": "execute_result"
    }
   ],
   "source": [
    "cntry = 'Prantsusmaa'\n",
    "p1 = re.compile( cntry + '\\s*[\\d]{1,3}([,]\\d)?')\n",
    "res = ul1.find(text=p1)\n",
    "res"
   ]
  },
  {
   "cell_type": "markdown",
   "metadata": {},
   "source": [
    "In the next step we want to extract the decimal value. At the same time we can look for a present asterisk, highlighting that there is a special treatment for this case. "
   ]
  },
  {
   "cell_type": "code",
   "execution_count": 10,
   "metadata": {},
   "outputs": [
    {
     "data": {
      "text/plain": [
       "('172,1', '')"
      ]
     },
     "execution_count": 10,
     "metadata": {},
     "output_type": "execute_result"
    }
   ],
   "source": [
    "p2 = re.compile(r'(\\d*\\,?\\d+)(\\*)?')\n",
    "res2 = p2.findall(res)[0]\n",
    "res2"
   ]
  },
  {
   "cell_type": "markdown",
   "metadata": {},
   "source": [
    "In case the country is highlighted in<font color=red> **bold and red ** </font> returning from the country implies a 14 day quarantine period. Whether or not the formatting exists can be checked like this."
   ]
  },
  {
   "cell_type": "code",
   "execution_count": 11,
   "metadata": {},
   "outputs": [
    {
     "name": "stdout",
     "output_type": "stream",
     "text": [
      "True\n"
     ]
    }
   ],
   "source": [
    "if res.find_parent('span', {'class': 'node-text-color-red'}):\n",
    "    print(True)\n",
    "    \n",
    "# or \n",
    "if res.find_parent('strong', {'style' : 'color: rgb(189, 73, 50);'}):\n",
    "    print(True)"
   ]
  },
  {
   "cell_type": "markdown",
   "metadata": {},
   "source": [
    "#### Looping through the data"
   ]
  },
  {
   "cell_type": "code",
   "execution_count": 12,
   "metadata": {},
   "outputs": [],
   "source": [
    "# Creating dictionaries and lists where the collected information is stored\n",
    "a2_status = {}  # \n",
    "found_countries = [] # countries that were found on the webpage\n",
    "quarantine = [] # countries needing quarantine on re-entry\n",
    "no_quarantine = [] # countries without quarantine rule"
   ]
  },
  {
   "cell_type": "code",
   "execution_count": 13,
   "metadata": {},
   "outputs": [
    {
     "name": "stdout",
     "output_type": "stream",
     "text": [
      "Andorra: 313.7 FOM restricted\n",
      "Austria: 88.9 FOM restricted\n",
      "Belgia: 93.4 FOM restricted\n",
      "Bulgaaria: 27.5 FOM restricted\n",
      "Hispaania: 292.2 FOM restricted\n",
      "Holland: 90.2 FOM restricted\n",
      "Horvaatia: 78.1 FOM restricted\n",
      "Iirimaa: 57.4 FOM restricted\n",
      "Island: 21.9 FOM restricted\n",
      "Itaalia: 33.3 FOM restricted\n",
      "Kreeka: 31.7 FOM restricted\n",
      "Küpros: 6.9 \n",
      "Leedu: 18.8 FOM restricted\n",
      "Liechtenstein: 7.8 \n",
      "Luksemburg: 129.7 FOM restricted\n",
      "Läti: 4.4 \n",
      "Malta: 127.2 FOM restricted\n",
      "Norra: 27.5 FOM restricted\n",
      "Poola: 19.6 FOM restricted\n",
      "Portugal: 71.5 FOM restricted\n",
      "Prantsusmaa: 172.1 FOM restricted\n",
      "Rootsi: 30.3 FOM restricted\n",
      "Rumeenia: 89.8 FOM restricted\n",
      "Saksamaa: 24.3 FOM restricted\n",
      "San Marino: 23.2 FOM restricted\n",
      "Slovakkia: 34.1 FOM restricted\n",
      "Sloveenia: 48.9 FOM restricted\n",
      "Soome: 10.9 \n",
      "Šveits: 65.0 FOM restricted\n",
      "Taani: 69.2 FOM restricted\n",
      "Tšehhi: 166.2 FOM restricted\n",
      "Ungari: 94.0 FOM restricted\n",
      "Vatikan: 0.0 \n",
      "Ühendkuningriik: 61.8 FOM restricted\n"
     ]
    }
   ],
   "source": [
    "for a2 in a2_dct.keys(): # looping through all country codes\n",
    "    cntry = a2_dct[a2]['ee'] # get the estonian translation\n",
    "    cntry_en = a2_dct[a2]['en'] # get the english translation\n",
    "    \n",
    "    # find the country in the selected unordered list\n",
    "    p1 = re.compile( cntry + '\\s*[\\d]{1,3}([,]\\d)?') # see explanation above\n",
    "    res1 = ul1.find(text=p1) \n",
    "    \n",
    "    if res1: # if it is found\n",
    "        found_countries.append(cntry_en) # append it to the list of countries found\n",
    "        \n",
    "        #p2 = re.compile(r'(\\d*\\,?\\d+)(\\*)?') # \n",
    "        res2 = p2.findall(res1)[0] # search for the value (see above)\n",
    "        val = float(res2[0].replace(',','.')) # convert value from string decimal (komma) to float\n",
    "        a2_status[a2] = {'val': val} # assign it to the dictionary\n",
    "        \n",
    "        # the following is checking whether a asterisk is present \n",
    "        note = res2[0][1]\n",
    "        if note == '':\n",
    "            a2_status[a2]['note'] = False # assign to the dictionary\n",
    "        else:\n",
    "            a2_status[a2]['note'] = True\n",
    "            \n",
    "        #print(res, val, end = '')\n",
    "        \n",
    "        # check whether quarantine rules apply or not\n",
    "        if res1.find_parent('span', {'class': 'node-text-color-red'}) or res1.find_parent('strong', {'style' : 'color: rgb(189, 73, 50);'}):\n",
    "            #print('####')\n",
    "            a2_status[a2]['fom'] = False # assign to the dictionary\n",
    "            quarantine.append(cntry_en) # add to the list of countries that need to quarantine\n",
    "        else:\n",
    "            #print('')\n",
    "            a2_status[a2]['fom'] = True\n",
    "            no_quarantine.append(cntry_en) # add to the list of countries that do not need to quarantine\n",
    "            \n",
    "        fom = 'FOM restricted' if not a2_status[a2]['fom'] else ''\n",
    "        print('{}: {} {}'.format(cntry, a2_status[a2]['val'], fom))\n",
    "        del res2    \n",
    "    else:\n",
    "        pass\n",
    "    del res1"
   ]
  },
  {
   "cell_type": "markdown",
   "metadata": {},
   "source": [
    "### Finding other listed countries"
   ]
  },
  {
   "cell_type": "markdown",
   "metadata": {},
   "source": [
    "Same approach here, but it is not necessary to look for the active cases per country."
   ]
  },
  {
   "cell_type": "code",
   "execution_count": 14,
   "metadata": {},
   "outputs": [
    {
     "name": "stdout",
     "output_type": "stream",
     "text": [
      "Austraalia FOM restricted\n",
      "Gruusia FOM restricted\n",
      "Jaapan FOM restricted\n",
      "Kanada \n",
      "Lõuna-Korea FOM restricted\n",
      "Rwanda FOM restricted\n",
      "Tai FOM restricted\n",
      "Tuneesia \n",
      "Uruguay FOM restricted\n",
      "Uus-Meremaa FOM restricted\n"
     ]
    }
   ],
   "source": [
    "ul2 = soup.find_all('ul')[21] # define the unordered list to look for countries (currently #21, but it might change)\n",
    "for a2 in a2_dct.keys(): # looping through all country codes\n",
    "    cntry = a2_dct[a2]['ee'] # get the estonian translation\n",
    "    cntry_en = a2_dct[a2]['en'] # get the english translation\n",
    "    \n",
    "    # find the country in the selected unordered list\n",
    "    # also check if a asterisk is present (=quarantine mandatory)\n",
    "    p1 = re.compile('(' + cntry + ')\\s*([\\*])?') # see explanation above\n",
    "    res1=p1.findall(ul2.text)\n",
    "    \n",
    "    if res1: # if it is found\n",
    "        a2_status[a2] = {'val': None} # assign None value to the respective country \n",
    "        found_countries.append(cntry_en)  # append it to the list of countries found\n",
    "        note = res1[0][1]\n",
    "        if note =='':\n",
    "            a2_status[a2]['fom'] = False\n",
    "            quarantine.append(cntry_en)\n",
    "        else:\n",
    "            a2_status[a2]['fom'] = True\n",
    "            no_quarantine.append(cntry_en)\n",
    "            \n",
    "        a2_status[a2]['note'] = False\n",
    "        \n",
    "        fom = 'FOM restricted' if not a2_status[a2]['fom'] else ''\n",
    "        print('{} {}'.format(cntry, fom))\n",
    "\n",
    "    else:\n",
    "        pass\n",
    "    del res1"
   ]
  },
  {
   "cell_type": "markdown",
   "metadata": {},
   "source": [
    "Give out a quick report."
   ]
  },
  {
   "cell_type": "code",
   "execution_count": 15,
   "metadata": {},
   "outputs": [
    {
     "name": "stdout",
     "output_type": "stream",
     "text": [
      "Found countries: 44\n",
      "Countries that need quarantine: 37\n",
      "['Andorra', 'Austria', 'Belgium', 'Bulgaria', 'Spain', 'Netherlands', 'Croatia', 'Ireland', 'Iceland', 'Italy', 'Greece', 'Lithuania', 'Luxembourg', 'Malta', 'Norway', 'Poland', 'Portugal', 'France', 'Sweden', 'Romania', 'Germany', 'San Marino', 'Slovakia', 'Slovenia', 'Switzerland', 'Denmark', 'Czechia', 'Hungary', 'United Kingdom', 'Australia', 'Georgia', 'Japan', 'Korea, Republic of', 'Rwanda', 'Thailand', 'Uruguay', 'New Zealand']\n",
      "Countries that need NO quarantine: 7\n",
      "['Cyprus', 'Liechtenstein', 'Latvia', 'Finland', 'Holy See', 'Canada', 'Tunisia']\n"
     ]
    }
   ],
   "source": [
    "print('Found countries: {}'.format(len(found_countries)))\n",
    "\n",
    "print('Countries that need quarantine: {}'.format(len(quarantine)))\n",
    "print(quarantine)\n",
    "print('Countries that need NO quarantine: {}'.format(len(no_quarantine)))\n",
    "print(no_quarantine)"
   ]
  },
  {
   "cell_type": "markdown",
   "metadata": {},
   "source": [
    "Add additional data for UK and Estonia.\n",
    "Show the first entries of the dictionary with the results. "
   ]
  },
  {
   "cell_type": "code",
   "execution_count": 16,
   "metadata": {},
   "outputs": [
    {
     "data": {
      "text/plain": [
       "{'AD': {'val': 313.7, 'note': True, 'fom': False},\n",
       " 'AT': {'val': 88.9, 'note': True, 'fom': False},\n",
       " 'BE': {'val': 93.4, 'note': True, 'fom': False},\n",
       " 'BG': {'val': 27.5, 'note': True, 'fom': False},\n",
       " 'ES': {'val': 292.2, 'note': True, 'fom': False}}"
      ]
     },
     "execution_count": 16,
     "metadata": {},
     "output_type": "execute_result"
    }
   ],
   "source": [
    "a2_status['GB'] = a2_status['UK'] # The two letter codes were not consistent\n",
    "a2_status['EE'] = {'val': None, 'note': False, 'fom': True}\n",
    "\n",
    "dict(list(a2_status.items())[0:5])"
   ]
  },
  {
   "cell_type": "markdown",
   "metadata": {},
   "source": [
    "#### Add exemption for Finland, Latvia, Lithuania"
   ]
  },
  {
   "cell_type": "code",
   "execution_count": 23,
   "metadata": {},
   "outputs": [],
   "source": [
    "for a2 in ['FI', 'LV', 'LT']:\n",
    "    val = a2_status[a2]['val']\n",
    "    if val < 25:\n",
    "        a2_status[a2]['fom'] = True"
   ]
  },
  {
   "cell_type": "markdown",
   "metadata": {},
   "source": [
    "## Push results to ArcGIS Online"
   ]
  },
  {
   "cell_type": "markdown",
   "metadata": {},
   "source": [
    "Load the necessary packages. "
   ]
  },
  {
   "cell_type": "code",
   "execution_count": 24,
   "metadata": {},
   "outputs": [],
   "source": [
    "from arcgis.gis import GIS\n",
    "\n",
    "from copy import deepcopy\n",
    "import pytz\n",
    "from dateutil.tz import tzlocal"
   ]
  },
  {
   "cell_type": "markdown",
   "metadata": {},
   "source": [
    "Log in to ArcGIS Online. "
   ]
  },
  {
   "cell_type": "code",
   "execution_count": 25,
   "metadata": {},
   "outputs": [],
   "source": [
    "#gis = GIS(username=\"user1\", password=\"password\", profile=\"COVDemo\") # uncomment to log in and safe as a profile.\n",
    "gis = GIS(profile=\"COVDemo\")"
   ]
  },
  {
   "cell_type": "markdown",
   "metadata": {},
   "source": [
    "Get the Feature Layer Collection that we want to edit. (It has been created before, click the link to check out the data structure.)"
   ]
  },
  {
   "cell_type": "code",
   "execution_count": 26,
   "metadata": {},
   "outputs": [
    {
     "data": {
      "text/html": [
       "<div class=\"item_container\" style=\"height: auto; overflow: hidden; border: 1px solid #cfcfcf; border-radius: 2px; background: #f6fafa; line-height: 1.21429em; padding: 10px;\">\n",
       "                    <div class=\"item_left\" style=\"width: 210px; float: left;\">\n",
       "                       <a href='https://ag.maps.arcgis.com/home/item.html?id=abe1b723785f4ecfbb602697d50872a0' target='_blank'>\n",
       "                        <img src='data:image/png;base64,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' width='200' height='133' class=\"itemThumbnail\">\n",
       "                       </a>\n",
       "                    </div>\n",
       "\n",
       "                    <div class=\"item_right\"     style=\"float: none; width: auto; overflow: hidden;\">\n",
       "                        <a href='https://ag.maps.arcgis.com/home/item.html?id=abe1b723785f4ecfbb602697d50872a0' target='_blank'><b>Covid19 Teave riikide</b>\n",
       "                        </a>\n",
       "                        <br/>World map with current restrictions in Freedom of Movement (14-day quarantine) for entering Estonia. Last Update: <img src='https://ag.maps.arcgis.com/home/js/jsapi/esri/css/images/item_type_icons/featureshosted16.png' style=\"vertical-align:middle;\">Feature Layer Collection by MBennTLL\n",
       "                        <br/>Last Modified: september 17, 2020\n",
       "                        <br/>0 comments, 111 views\n",
       "                    </div>\n",
       "                </div>\n",
       "                "
      ],
      "text/plain": [
       "<Item title:\"Covid19 Teave riikide\" type:Feature Layer Collection owner:MBennTLL>"
      ]
     },
     "execution_count": 26,
     "metadata": {},
     "output_type": "execute_result"
    }
   ],
   "source": [
    "current_id = r'abe1b723785f4ecfbb602697d50872a0'\n",
    "flc = gis.content.get(current_id)\n",
    "flc"
   ]
  },
  {
   "cell_type": "code",
   "execution_count": 27,
   "metadata": {},
   "outputs": [
    {
     "name": "stdout",
     "output_type": "stream",
     "text": [
      "Retrieved 256 features from feature set\n"
     ]
    }
   ],
   "source": [
    "flayer = flc.layers[0] # get the first layer (it only contains one)\n",
    "fset = flayer.query() # query it without a query, to select all data\n",
    "sdf = fset.sdf # save data to spatially enabled dataset\n",
    "\n",
    "all_features = fset.features # save all the feautres to a list as json objects\n",
    "print(\"Retrieved {} features from feature set\".format(len(all_features)))"
   ]
  },
  {
   "cell_type": "markdown",
   "metadata": {},
   "source": [
    "**Do the following steps in loop.**\n",
    "\n",
    "1. Check whether the new data is more recent than the previously stored.\n",
    "2. Loop through all ISO 2 digit values in feature set\n",
    "    1. Find all features with said code\n",
    "    2. Remove geometries, to reduce processing time and traffic\n",
    "    3. Check whether the 2-digit code is also to be found in the previously created dictionary\n",
    "        1. YES: copy values from dictionary to the feature\n",
    "        2. NO: reset all values to None/Null values\n",
    "    4. Add the feature to the list of feature that need to be updated\n"
   ]
  },
  {
   "cell_type": "code",
   "execution_count": 28,
   "metadata": {},
   "outputs": [],
   "source": [
    "import pandas as pd"
   ]
  },
  {
   "cell_type": "code",
   "execution_count": 29,
   "metadata": {},
   "outputs": [],
   "source": [
    "features_to_update = [] # create empty list with features that will be updated.\n",
    "\n",
    "# check if new data is more recent than the last data\n",
    "if pd.isnull(sdf.lastUpdate.max()) or up_date.astimezone(pytz.utc) > sdf.lastUpdate.max().replace(tzinfo=pytz.utc): # \n",
    "    for a2 in sdf.ISO_2DIGIT.values: # go through all the 2-digit codes in the feature set\n",
    "        original_features = [f for f in all_features if f.attributes['ISO_2DIGIT'] == a2] # query to find the feature(s)\n",
    "        for original_feature in original_features: # some countries contain more than one polygon\n",
    "            feature_to_be_updated = deepcopy(original_feature) # copy the original\n",
    "            del feature_to_be_updated.attributes['SHAPE'] # delete shape temporarily (does not need to be updated)\n",
    "            \n",
    "            if a2 in a2_status: # check whether the code exist in previously created dictionary\n",
    "                curVal = a2_status[a2]['val'] # get current value from dictionary\n",
    "                prevVal = feature_to_be_updated.attributes['activeCasesp100k'] # save previous value\n",
    "                feature_to_be_updated.attributes['activeCasesp100k'] = curVal # set current \n",
    "                feature_to_be_updated.attributes['prevActiveCp100k'] = prevVal # set previous \n",
    "                feature_to_be_updated.attributes['addInfo'] = int(a2_status[a2]['note']) # set 0/1 if there is a note\n",
    "                feature_to_be_updated.attributes['StatusCode'] = 1 if a2_status[a2]['fom'] else 2 # set Status depending on FOM\n",
    "                feature_to_be_updated.attributes['prevUpdate'] = feature_to_be_updated.attributes['lastUpdate'] # set last update \n",
    "                feature_to_be_updated.attributes['lastUpdate'] = up_date # set to date extracted from text \n",
    "                feature_to_be_updated.attributes['validFrom'] = valid_from # set to period extracted from text \n",
    "                feature_to_be_updated.attributes['validTo'] = valid_to # set to period extracted from text \n",
    "                if prevVal and curVal:\n",
    "                    feature_to_be_updated.attributes['activeCasesTrend'] = 1 if round(prevVal,1) < round(curVal,1) else 2\n",
    "                else:\n",
    "                    feature_to_be_updated.attributes['activeCasesTrend'] = 0\n",
    "            else:\n",
    "                # set everything to none except previous values\n",
    "                feature_to_be_updated.attributes['activeCasesp100k'] = None\n",
    "                feature_to_be_updated.attributes['prevActiveCp100k'] = feature_to_be_updated.attributes['activeCasesp100k']\n",
    "                feature_to_be_updated.attributes['addInfo'] = None\n",
    "                feature_to_be_updated.attributes['StatusCode'] = 9\n",
    "                feature_to_be_updated.attributes['prevUpdate'] = feature_to_be_updated.attributes['lastUpdate']\n",
    "                feature_to_be_updated.attributes['lastUpdate'] = None\n",
    "                feature_to_be_updated.attributes['validFrom'] = None\n",
    "                feature_to_be_updated.attributes['validTo'] = None\n",
    "                feature_to_be_updated.attributes['activeCasesTrend'] = 0\n",
    "            # remove the feature geometry by keeping the attributes only   \n",
    "            feature_to_be_updated2 = {}\n",
    "            feature_to_be_updated2['attributes'] = feature_to_be_updated.attributes\n",
    "            features_to_update.append(feature_to_be_updated2) # append the updated attributes\n",
    "    result = flayer.edit_features(updates=features_to_update) # update the data online"
   ]
  }
 ],
 "metadata": {
  "kernelspec": {
   "display_name": "Python 3",
   "language": "python",
   "name": "python3"
  },
  "language_info": {
   "codemirror_mode": {
    "name": "ipython",
    "version": 3
   },
   "file_extension": ".py",
   "mimetype": "text/x-python",
   "name": "python",
   "nbconvert_exporter": "python",
   "pygments_lexer": "ipython3",
   "version": "3.6.7"
  }
 },
 "nbformat": 4,
 "nbformat_minor": 4
}
