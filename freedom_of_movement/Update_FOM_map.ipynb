{
 "cells": [
  {
   "cell_type": "markdown",
   "metadata": {},
   "source": [
    "# Create a map of Countries with current travel restrictions"
   ]
  },
  {
   "cell_type": "markdown",
   "metadata": {},
   "source": [
    "**Define and get the website (estonian version)**\n",
    "\n",
    "We are using [requests](https://requests.readthedocs.io/en/master/) to download the webpage, and the [BeautifulSoup](https://www.crummy.com/software/BeautifulSoup/bs4/doc/) package to parse the source code of the webpage."
   ]
  },
  {
   "cell_type": "code",
   "execution_count": 2,
   "metadata": {},
   "outputs": [],
   "source": [
    "import requests\n",
    "from bs4 import BeautifulSoup\n",
    "\n",
    "url = r'https://vm.ee/et/teave-riikide-ja-liikumispiirangute-kohta-eestisse-saabujatele'\n",
    "\n",
    "r = requests.get(url)\n",
    "soup = BeautifulSoup(r.text, features=\"html.parser\")"
   ]
  },
  {
   "cell_type": "markdown",
   "metadata": {},
   "source": [
    "**Regex to find dates and current timeframe**\n",
    "\n",
    "The data on the website is subject to change. The format can change with a new update, so the information we are looking for might be in a different position, or it has to be extracted from text. Right now, the website stores the last-update information on and the valid time frame in the text, in the format of: \n",
    "\n",
    "```DD.MM-DD.MM.YYYY (seisuga DD.MM.YYYY)```\n",
    "\n",
    "The text might change at some point, but for now we can use regular expressions to extract the data."
   ]
  },
  {
   "cell_type": "code",
   "execution_count": 3,
   "metadata": {},
   "outputs": [],
   "source": [
    "import re"
   ]
  },
  {
   "cell_type": "markdown",
   "metadata": {},
   "source": [
    "These are the too regular expressions we need. The first one extracts the time the data has been released/updated. The second contains the time interval of validity. Regular expression have been drafted on [RegExr](https://regexr.com/). Note, that as soon the text changes on the webite, the regular expression might need to be updated. They are somewhat dynamic (leading 0), but not entirely."
   ]
  },
  {
   "cell_type": "code",
   "execution_count": 4,
   "metadata": {},
   "outputs": [],
   "source": [
    "# Compiling to search for \"seisuga DD.MM.YYYY\"\n",
    "p1 = re.compile(r'seisuga\\s+((?:[0]?[1-9]|[1|2][0-9]|[3][0|1])[.](?:[0]?[1-9]|[1][0-2])[.](?:[0-9]{4}|[0-9]{2}))?')\n",
    "\n",
    "# Compiling to search for \"DD.MM-DD.MM.YYYY\"\n",
    "p2 = re.compile(r'((?:[0]?[1-9]|[1|2][0-9]|[3][0|1])[.](?:[0]?[1-9]|[1][0-2])[.]?(?:[0-9]{4}|[0-9]{2})?)-\\s*((?:[0]?[1-9]|[1|2][0-9]|[3][0|1])[.](?:[0]?[1-9]|[1][0-2])[.](?:[0-9]{4}|[0-9]{2}))?')"
   ]
  },
  {
   "cell_type": "markdown",
   "metadata": {},
   "source": [
    "Finding and parsing the Dates."
   ]
  },
  {
   "cell_type": "code",
   "execution_count": 5,
   "metadata": {},
   "outputs": [
    {
     "name": "stdout",
     "output_type": "stream",
     "text": [
      "The website has been updated on 18.09.2020, the current values are valid from 21.09.2020 to 27.09.2020.\n"
     ]
    }
   ],
   "source": [
    "import datetime\n",
    "from dateutil.parser import parse\n",
    "\n",
    "li = soup.find(text=p1) # look for list entries (explanation below)\n",
    "\n",
    "# Day of release (last update)\n",
    "up_date = datetime.datetime.strptime(p1.findall(li)[0], '%d.%m.%Y')\n",
    "\n",
    "# Validity period\n",
    "valid_from = parse(p2.findall(li)[0][0])\n",
    "valid_to = parse(p2.findall(li)[0][1])\n",
    "\n",
    "# Print to check if it has been extracted properly\n",
    "print(\"The website has been updated on {}, the current values are valid from {} to {}.\".format(up_date.strftime('%d.%m.%Y'), \n",
    "                                                                                             valid_from.strftime('%d.%m.%Y'),\n",
    "                                                                                             valid_to.strftime('%d.%m.%Y')))"
   ]
  },
  {
   "cell_type": "markdown",
   "metadata": {},
   "source": [
    "## Finding countries in the text"
   ]
  },
  {
   "cell_type": "markdown",
   "metadata": {},
   "source": [
    "In the config.py file in the same folder a dictionary has been created containing all the countries, their English and Estonian translation, matched together by their 2-digit Country code. ([en](https://en.wikipedia.org/wiki/ISO_3166-1), [ee](https://et.wikipedia.org/wiki/ISO_maakoodide_loend))."
   ]
  },
  {
   "cell_type": "markdown",
   "metadata": {},
   "source": [
    "The file can be imported as a package, and the containing dictionary is assigned to a variable."
   ]
  },
  {
   "cell_type": "code",
   "execution_count": 6,
   "metadata": {},
   "outputs": [
    {
     "data": {
      "text/plain": [
       "{'AF': {'ee': 'Afganistan', 'en': 'Afghanistan'},\n",
       " 'AX': {'ee': 'Ahvenamaa', 'en': 'Åland Islands'},\n",
       " 'AL': {'ee': 'Albaania', 'en': 'Albania'},\n",
       " 'DZ': {'ee': 'Alžeeria', 'en': 'Algeria'},\n",
       " 'AS': {'ee': 'Ameerika Samoa', 'en': 'American Samoa'}}"
      ]
     },
     "execution_count": 6,
     "metadata": {},
     "output_type": "execute_result"
    }
   ],
   "source": [
    "import config as cfg\n",
    "a2_dct = cfg.a2_dct\n",
    "\n",
    "dict(list(a2_dct.items())[0:5])"
   ]
  },
  {
   "cell_type": "markdown",
   "metadata": {},
   "source": [
    "### Finding the section containing EU-countries"
   ]
  },
  {
   "cell_type": "markdown",
   "metadata": {},
   "source": [
    "The webpage has different sections, which are all subject to change. The sections are defined by [```<ul>```-tags](https://www.w3schools.com/tags/tag_ul.asp) (unordered lists), containing [```<li>```-items](https://www.w3schools.com/tags/tag_li.asp) (list items). We can use BeautifulSoup to find the unordered lists in the website."
   ]
  },
  {
   "cell_type": "code",
   "execution_count": 7,
   "metadata": {},
   "outputs": [
    {
     "name": "stdout",
     "output_type": "stream",
     "text": [
      "There are 33 unordered lists defined in the website, in total they contain 233 list items.\n"
     ]
    }
   ],
   "source": [
    "uls = soup.find_all('ul')\n",
    "ils = soup.find_all('li')\n",
    "print(\"There are {} unordered lists defined in the website, in total they contain {} list items.\".format(len(uls),len(ils)))"
   ]
  },
  {
   "cell_type": "markdown",
   "metadata": {},
   "source": [
    "At this stage a bit of manual data exploration is advised. We need to find the unordered list, which contains the data we are looking for (list of EU-countries and their respective active cases / 100k inhabitants). This can certainly be automized, but as long it doesn't change permanently, it is easier to just select the right list. "
   ]
  },
  {
   "cell_type": "code",
   "execution_count": 8,
   "metadata": {},
   "outputs": [
    {
     "data": {
      "text/plain": [
       "<ul>\n",
       "<li><span class=\"node-text-color-red\"><strong>Andorra 313,7</strong></span></li>\n",
       "<li><span class=\"node-text-color-red\"><strong>Austria 88,9</strong></span></li>\n",
       "<li><span class=\"node-text-color-red\"><strong>Belgia 93,4</strong></span></li>\n",
       "<li><span class=\"node-text-color-red\"><strong>Bulgaaria 27,5</strong></span></li>\n",
       "<li><span class=\"node-text-color-red\"><strong>Hispaania 292,2</strong></span></li>\n",
       "<li><span class=\"node-text-color-red\"><strong>Holland 90,2</strong></span></li>\n",
       "<li><span class=\"node-text-color-red\"><strong>Horvaatia 78,1</strong></span></li>\n",
       "<li><span class=\"node-text-color-red\"><strong>Iirimaa 57,4</strong></span></li>\n",
       "<li>\n",
       "<p><span class=\"node-text-color-red\"><strong>Island 21,9</strong></span></p>\n",
       "</li>\n",
       "<li><span class=\"node-text-color-red\"><strong>Itaalia 33,3</strong></span></li>\n",
       "<li><span class=\"node-text-color-red\"><strong>Kreeka 31,7</strong></span></li>\n",
       "<li><strong>Küpros 6,9</strong></li>\n",
       "<li><span class=\"node-text-color-red\"><strong>Leedu 18,8**</strong></span></li>\n",
       "<li><strong>Liechtenstein 7,8</strong></li>\n",
       "<li><span class=\"node-text-color-red\"><strong>Luksemburg 129,7</strong></span></li>\n",
       "<li><strong>Läti 4,4</strong></li>\n",
       "<li><span class=\"node-text-color-red\"><strong>Malta 127,2</strong></span></li>\n",
       "<li><strong><span class=\"node-text-color-red\">Monaco </span></strong><strong><span class=\"node-text-color-red\">117,9</span></strong></li>\n",
       "<li><span class=\"node-text-color-red\"><strong>Norra 27,5</strong></span></li>\n",
       "<li><strong style=\"color: rgb(189, 73, 50);\">Poola 19,6</strong></li>\n",
       "<li><span class=\"node-text-color-red\"><strong>Portugal 71,5</strong></span></li>\n",
       "<li><span class=\"node-text-color-red\"><strong>Prantsusmaa 172,1</strong></span></li>\n",
       "<li><span class=\"node-text-color-red\"><strong>Rootsi 30,3</strong></span></li>\n",
       "<li><span class=\"node-text-color-red\"><strong>Rumeenia 89,8</strong></span></li>\n",
       "<li><span class=\"node-text-color-red\"><strong>Saksamaa 24,3</strong></span></li>\n",
       "<li><span class=\"node-text-color-red\"><strong>San Marino 23,2</strong></span></li>\n",
       "<li><span class=\"node-text-color-red\"><strong>Slovakkia 34,1</strong></span></li>\n",
       "<li><span class=\"node-text-color-red\"><strong>Sloveenia 48,9</strong></span></li>\n",
       "<li><strong>Soome 10,9</strong></li>\n",
       "<li><span class=\"node-text-color-red\"><strong>Šveits 65,0</strong></span></li>\n",
       "<li><span class=\"node-text-color-red\"><strong>Taani 69,2</strong></span></li>\n",
       "<li><span class=\"node-text-color-red\"><strong>Tšehhi 166,2</strong></span></li>\n",
       "<li><span class=\"node-text-color-red\"><strong>Ungari 94,0</strong></span></li>\n",
       "<li><strong>Vatikan 0,0</strong></li>\n",
       "<li><strong><span class=\"node-text-color-red\">Ühendkuningriik 61,8</span></strong></li>\n",
       "</ul>"
      ]
     },
     "execution_count": 8,
     "metadata": {},
     "output_type": "execute_result"
    }
   ],
   "source": [
    "# The list we are after is currently the 20 list out of 33.\n",
    "ul1 = soup.find_all('ul')[20]\n",
    "ul1"
   ]
  },
  {
   "cell_type": "markdown",
   "metadata": {},
   "source": [
    "In the printed section we can find all the data we are looking for. Unfortunately the formatting is not homogeneous, which will make extraction a bit more tedious. There are different ```<span>``` classes, and various use cases of the ```<strong>``` tag, which indicate whether the 2-week quarantine rule applies or not. "
   ]
  },
  {
   "cell_type": "markdown",
   "metadata": {},
   "source": [
    "#### Regular expressions"
   ]
  },
  {
   "cell_type": "markdown",
   "metadata": {},
   "source": [
    "Before we are going to loop through all the countries, we are testing our detection. The following command is used to find the country and the number. Note, that the regular expression contains the option for several spaces ```\\s*``` (sometimes there is more than one), and the option for decimal number or not ```([,]\\d)?```."
   ]
  },
  {
   "cell_type": "code",
   "execution_count": 9,
   "metadata": {},
   "outputs": [
    {
     "data": {
      "text/plain": [
       "'Prantsusmaa 172,1'"
      ]
     },
     "execution_count": 9,
     "metadata": {},
     "output_type": "execute_result"
    }
   ],
   "source": [
    "cntry = 'Prantsusmaa'\n",
    "p1 = re.compile( cntry + '\\s*[\\d]{1,3}([,]\\d)?')\n",
    "res = ul1.find(text=p1)\n",
    "res"
   ]
  },
  {
   "cell_type": "markdown",
   "metadata": {},
   "source": [
    "In the next step we want to extract the decimal value. At the same time we can look for a present asterisk, highlighting that there is a special treatment for this case. "
   ]
  },
  {
   "cell_type": "code",
   "execution_count": 10,
   "metadata": {},
   "outputs": [
    {
     "data": {
      "text/plain": [
       "('172,1', '')"
      ]
     },
     "execution_count": 10,
     "metadata": {},
     "output_type": "execute_result"
    }
   ],
   "source": [
    "p2 = re.compile(r'(\\d*\\,?\\d+)(\\*)?')\n",
    "res2 = p2.findall(res)[0]\n",
    "res2"
   ]
  },
  {
   "cell_type": "markdown",
   "metadata": {},
   "source": [
    "In case the country is highlighted in<font color=red> **bold and red ** </font> returning from the country implies a 14 day quarantine period. Whether or not the formatting exists can be checked like this."
   ]
  },
  {
   "cell_type": "code",
   "execution_count": 11,
   "metadata": {},
   "outputs": [
    {
     "name": "stdout",
     "output_type": "stream",
     "text": [
      "True\n"
     ]
    }
   ],
   "source": [
    "if res.find_parent('span', {'class': 'node-text-color-red'}):\n",
    "    print(True)\n",
    "    \n",
    "# or \n",
    "if res.find_parent('strong', {'style' : 'color: rgb(189, 73, 50);'}):\n",
    "    print(True)"
   ]
  },
  {
   "cell_type": "markdown",
   "metadata": {},
   "source": [
    "#### Looping through the data"
   ]
  },
  {
   "cell_type": "code",
   "execution_count": 12,
   "metadata": {},
   "outputs": [],
   "source": [
    "# Creating dictionaries and lists where the collected information is stored\n",
    "a2_status = {}  # \n",
    "found_countries = [] # countries that were found on the webpage\n",
    "quarantine = [] # countries needing quarantine on re-entry\n",
    "no_quarantine = [] # countries without quarantine rule"
   ]
  },
  {
   "cell_type": "code",
   "execution_count": 13,
   "metadata": {},
   "outputs": [
    {
     "name": "stdout",
     "output_type": "stream",
     "text": [
      "Andorra: 313.7 FOM restricted\n",
      "Austria: 88.9 FOM restricted\n",
      "Belgia: 93.4 FOM restricted\n",
      "Bulgaaria: 27.5 FOM restricted\n",
      "Hispaania: 292.2 FOM restricted\n",
      "Holland: 90.2 FOM restricted\n",
      "Horvaatia: 78.1 FOM restricted\n",
      "Iirimaa: 57.4 FOM restricted\n",
      "Island: 21.9 FOM restricted\n",
      "Itaalia: 33.3 FOM restricted\n",
      "Kreeka: 31.7 FOM restricted\n",
      "Küpros: 6.9 \n",
      "Leedu: 18.8 FOM restricted\n",
      "Liechtenstein: 7.8 \n",
      "Luksemburg: 129.7 FOM restricted\n",
      "Läti: 4.4 \n",
      "Malta: 127.2 FOM restricted\n",
      "Norra: 27.5 FOM restricted\n",
      "Poola: 19.6 FOM restricted\n",
      "Portugal: 71.5 FOM restricted\n",
      "Prantsusmaa: 172.1 FOM restricted\n",
      "Rootsi: 30.3 FOM restricted\n",
      "Rumeenia: 89.8 FOM restricted\n",
      "Saksamaa: 24.3 FOM restricted\n",
      "San Marino: 23.2 FOM restricted\n",
      "Slovakkia: 34.1 FOM restricted\n",
      "Sloveenia: 48.9 FOM restricted\n",
      "Soome: 10.9 \n",
      "Šveits: 65.0 FOM restricted\n",
      "Taani: 69.2 FOM restricted\n",
      "Tšehhi: 166.2 FOM restricted\n",
      "Ungari: 94.0 FOM restricted\n",
      "Vatikan: 0.0 \n",
      "Ühendkuningriik: 61.8 FOM restricted\n"
     ]
    }
   ],
   "source": [
    "for a2 in a2_dct.keys(): # looping through all country codes\n",
    "    cntry = a2_dct[a2]['ee'] # get the estonian translation\n",
    "    cntry_en = a2_dct[a2]['en'] # get the english translation\n",
    "    \n",
    "    # find the country in the selected unordered list\n",
    "    p1 = re.compile( cntry + '\\s*[\\d]{1,3}([,]\\d)?') # see explanation above\n",
    "    res1 = ul1.find(text=p1) \n",
    "    \n",
    "    if res1: # if it is found\n",
    "        found_countries.append(cntry_en) # append it to the list of countries found\n",
    "        \n",
    "        #p2 = re.compile(r'(\\d*\\,?\\d+)(\\*)?') # \n",
    "        res2 = p2.findall(res1)[0] # search for the value (see above)\n",
    "        val = float(res2[0].replace(',','.')) # convert value from string decimal (komma) to float\n",
    "        a2_status[a2] = {'val': val} # assign it to the dictionary\n",
    "        \n",
    "        # the following is checking whether a asterisk is present \n",
    "        note = res2[0][1]\n",
    "        if note == '':\n",
    "            a2_status[a2]['note'] = False # assign to the dictionary\n",
    "        else:\n",
    "            a2_status[a2]['note'] = True\n",
    "            \n",
    "        #print(res, val, end = '')\n",
    "        \n",
    "        # check whether quarantine rules apply or not\n",
    "        if res1.find_parent('span', {'class': 'node-text-color-red'}) or res1.find_parent('strong', {'style' : 'color: rgb(189, 73, 50);'}):\n",
    "            #print('####')\n",
    "            a2_status[a2]['fom'] = False # assign to the dictionary\n",
    "            quarantine.append(cntry_en) # add to the list of countries that need to quarantine\n",
    "        else:\n",
    "            #print('')\n",
    "            a2_status[a2]['fom'] = True\n",
    "            no_quarantine.append(cntry_en) # add to the list of countries that do not need to quarantine\n",
    "            \n",
    "        fom = 'FOM restricted' if not a2_status[a2]['fom'] else ''\n",
    "        print('{}: {} {}'.format(cntry, a2_status[a2]['val'], fom))\n",
    "        del res2    \n",
    "    else:\n",
    "        pass\n",
    "    del res1"
   ]
  },
  {
   "cell_type": "markdown",
   "metadata": {},
   "source": [
    "### Finding other listed countries"
   ]
  },
  {
   "cell_type": "markdown",
   "metadata": {},
   "source": [
    "Same approach here, but it is not necessary to look for the active cases per country."
   ]
  },
  {
   "cell_type": "code",
   "execution_count": 14,
   "metadata": {},
   "outputs": [
    {
     "name": "stdout",
     "output_type": "stream",
     "text": [
      "Austraalia FOM restricted\n",
      "Gruusia FOM restricted\n",
      "Jaapan FOM restricted\n",
      "Kanada \n",
      "Lõuna-Korea FOM restricted\n",
      "Rwanda FOM restricted\n",
      "Tai FOM restricted\n",
      "Tuneesia \n",
      "Uruguay FOM restricted\n",
      "Uus-Meremaa FOM restricted\n"
     ]
    }
   ],
   "source": [
    "ul2 = soup.find_all('ul')[21] # define the unordered list to look for countries (currently #21, but it might change)\n",
    "for a2 in a2_dct.keys(): # looping through all country codes\n",
    "    cntry = a2_dct[a2]['ee'] # get the estonian translation\n",
    "    cntry_en = a2_dct[a2]['en'] # get the english translation\n",
    "    \n",
    "    # find the country in the selected unordered list\n",
    "    # also check if a asterisk is present (=quarantine mandatory)\n",
    "    p1 = re.compile('(' + cntry + ')\\s*([\\*])?') # see explanation above\n",
    "    res1=p1.findall(ul2.text)\n",
    "    \n",
    "    if res1: # if it is found\n",
    "        a2_status[a2] = {'val': None} # assign None value to the respective country \n",
    "        found_countries.append(cntry_en)  # append it to the list of countries found\n",
    "        note = res1[0][1]\n",
    "        if note =='':\n",
    "            a2_status[a2]['fom'] = False\n",
    "            quarantine.append(cntry_en)\n",
    "        else:\n",
    "            a2_status[a2]['fom'] = True\n",
    "            no_quarantine.append(cntry_en)\n",
    "            \n",
    "        a2_status[a2]['note'] = False\n",
    "        \n",
    "        fom = 'FOM restricted' if not a2_status[a2]['fom'] else ''\n",
    "        print('{} {}'.format(cntry, fom))\n",
    "\n",
    "    else:\n",
    "        pass\n",
    "    del res1"
   ]
  },
  {
   "cell_type": "markdown",
   "metadata": {},
   "source": [
    "Give out a quick report."
   ]
  },
  {
   "cell_type": "code",
   "execution_count": 15,
   "metadata": {},
   "outputs": [
    {
     "name": "stdout",
     "output_type": "stream",
     "text": [
      "Found countries: 44\n",
      "Countries that need quarantine: 37\n",
      "['Andorra', 'Austria', 'Belgium', 'Bulgaria', 'Spain', 'Netherlands', 'Croatia', 'Ireland', 'Iceland', 'Italy', 'Greece', 'Lithuania', 'Luxembourg', 'Malta', 'Norway', 'Poland', 'Portugal', 'France', 'Sweden', 'Romania', 'Germany', 'San Marino', 'Slovakia', 'Slovenia', 'Switzerland', 'Denmark', 'Czechia', 'Hungary', 'United Kingdom', 'Australia', 'Georgia', 'Japan', 'Korea, Republic of', 'Rwanda', 'Thailand', 'Uruguay', 'New Zealand']\n",
      "Countries that need NO quarantine: 7\n",
      "['Cyprus', 'Liechtenstein', 'Latvia', 'Finland', 'Holy See', 'Canada', 'Tunisia']\n"
     ]
    }
   ],
   "source": [
    "print('Found countries: {}'.format(len(found_countries)))\n",
    "\n",
    "print('Countries that need quarantine: {}'.format(len(quarantine)))\n",
    "print(quarantine)\n",
    "print('Countries that need NO quarantine: {}'.format(len(no_quarantine)))\n",
    "print(no_quarantine)"
   ]
  },
  {
   "cell_type": "markdown",
   "metadata": {},
   "source": [
    "Add additional key for UK."
   ]
  },
  {
   "cell_type": "code",
   "execution_count": 16,
   "metadata": {},
   "outputs": [
    {
     "data": {
      "text/plain": [
       "{'AD': {'val': 313.7, 'note': True, 'fom': False},\n",
       " 'AT': {'val': 88.9, 'note': True, 'fom': False},\n",
       " 'BE': {'val': 93.4, 'note': True, 'fom': False},\n",
       " 'BG': {'val': 27.5, 'note': True, 'fom': False},\n",
       " 'ES': {'val': 292.2, 'note': True, 'fom': False}}"
      ]
     },
     "execution_count": 16,
     "metadata": {},
     "output_type": "execute_result"
    }
   ],
   "source": [
    "a2_status['GB'] = a2_status['UK'] # The two letter codes were not consistent"
   ]
  },
  {
   "cell_type": "markdown",
   "metadata": {},
   "source": [
    "Show the first entries of the dictionary with the results. "
   ]
  },
  {
   "cell_type": "code",
   "execution_count": 44,
   "metadata": {},
   "outputs": [
    {
     "data": {
      "text/plain": [
       "{'AD': {'val': 313.7, 'note': True, 'fom': False},\n",
       " 'AT': {'val': 88.9, 'note': True, 'fom': False},\n",
       " 'BE': {'val': 93.4, 'note': True, 'fom': False},\n",
       " 'BG': {'val': 27.5, 'note': True, 'fom': False},\n",
       " 'ES': {'val': 292.2, 'note': True, 'fom': False}}"
      ]
     },
     "execution_count": 44,
     "metadata": {},
     "output_type": "execute_result"
    }
   ],
   "source": [
    "dict(list(a2_status.items())[0:5])"
   ]
  },
  {
   "cell_type": "markdown",
   "metadata": {},
   "source": [
    "#### Get data for Estonia\n",
    "\n",
    "No data is present for Estonia on the vm.ee website. \n",
    "\n",
    "In the next steps we pull the data from another feature layer, whose data collection has been documented [here](https://github.com/MBennGit/agcovdemo/blob/master/01_Download_and_Preprocess_Data.ipynb)"
   ]
  },
  {
   "cell_type": "markdown",
   "metadata": {},
   "source": [
    "Load ArcGIS API for Python and log in."
   ]
  },
  {
   "cell_type": "code",
   "execution_count": 45,
   "metadata": {},
   "outputs": [],
   "source": [
    "from arcgis.gis import GIS\n",
    "#gis = GIS(username=\"user1\", password=\"password\", profile=\"COVDemo\") # uncomment to log in and safe as a profile.\n",
    "gis = GIS(profile=\"COVDemo\")"
   ]
  },
  {
   "cell_type": "markdown",
   "metadata": {},
   "source": [
    "Get the feature layer collection."
   ]
  },
  {
   "cell_type": "code",
   "execution_count": 46,
   "metadata": {},
   "outputs": [
    {
     "data": {
      "text/html": [
       "<div class=\"item_container\" style=\"height: auto; overflow: hidden; border: 1px solid #cfcfcf; border-radius: 2px; background: #f6fafa; line-height: 1.21429em; padding: 10px;\">\n",
       "                    <div class=\"item_left\" style=\"width: 210px; float: left;\">\n",
       "                       <a href='https://ag.maps.arcgis.com/home/item.html?id=25c87bbbd5b54234a3f5905066569b96' target='_blank'>\n",
       "                        <img src='data:image/png;base64,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' width='200' height='133' class=\"itemThumbnail\">\n",
       "                       </a>\n",
       "                    </div>\n",
       "\n",
       "                    <div class=\"item_right\"     style=\"float: none; width: auto; overflow: hidden;\">\n",
       "                        <a href='https://ag.maps.arcgis.com/home/item.html?id=25c87bbbd5b54234a3f5905066569b96' target='_blank'><b>Eesti_maakond_koroona_tsp</b>\n",
       "                        </a>\n",
       "                        <br/>Eesti_maakond_koroona_ts polygon<img src='https://ag.maps.arcgis.com/home/js/jsapi/esri/css/images/item_type_icons/featureshosted16.png' style=\"vertical-align:middle;\">Feature Layer Collection by MBennTLL\n",
       "                        <br/>Last Modified: august 12, 2020\n",
       "                        <br/>0 comments, 20 581 views\n",
       "                    </div>\n",
       "                </div>\n",
       "                "
      ],
      "text/plain": [
       "<Item title:\"Eesti_maakond_koroona_tsp\" type:Feature Layer Collection owner:MBennTLL>"
      ]
     },
     "execution_count": 46,
     "metadata": {},
     "output_type": "execute_result"
    }
   ],
   "source": [
    "flcid = '25c87bbbd5b54234a3f5905066569b96'\n",
    "flc = gis.content.get(flcid)\n",
    "flc"
   ]
  },
  {
   "cell_type": "markdown",
   "metadata": {},
   "source": [
    "Query the first layer of the feature layer collection (getting the most recent data).\n",
    "\n",
    "Convert the data to a spatially enabled dataset."
   ]
  },
  {
   "cell_type": "code",
   "execution_count": 50,
   "metadata": {},
   "outputs": [
    {
     "data": {
      "text/html": [
       "<div>\n",
       "<style scoped>\n",
       "    .dataframe tbody tr th:only-of-type {\n",
       "        vertical-align: middle;\n",
       "    }\n",
       "\n",
       "    .dataframe tbody tr th {\n",
       "        vertical-align: top;\n",
       "    }\n",
       "\n",
       "    .dataframe thead th {\n",
       "        text-align: right;\n",
       "    }\n",
       "</style>\n",
       "<table border=\"1\" class=\"dataframe\">\n",
       "  <thead>\n",
       "    <tr style=\"text-align: right;\">\n",
       "      <th></th>\n",
       "      <th>MNIMI</th>\n",
       "      <th>activeCases</th>\n",
       "      <th>Population</th>\n",
       "    </tr>\n",
       "  </thead>\n",
       "  <tbody>\n",
       "    <tr>\n",
       "      <th>0</th>\n",
       "      <td>Pärnumaa</td>\n",
       "      <td>2</td>\n",
       "      <td>88125</td>\n",
       "    </tr>\n",
       "    <tr>\n",
       "      <th>1</th>\n",
       "      <td>Saaremaa</td>\n",
       "      <td>4</td>\n",
       "      <td>33984</td>\n",
       "    </tr>\n",
       "    <tr>\n",
       "      <th>2</th>\n",
       "      <td>Lääne-Virumaa</td>\n",
       "      <td>8</td>\n",
       "      <td>60891</td>\n",
       "    </tr>\n",
       "    <tr>\n",
       "      <th>3</th>\n",
       "      <td>Harjumaa</td>\n",
       "      <td>235</td>\n",
       "      <td>611002</td>\n",
       "    </tr>\n",
       "    <tr>\n",
       "      <th>4</th>\n",
       "      <td>Viljandimaa</td>\n",
       "      <td>1</td>\n",
       "      <td>47778</td>\n",
       "    </tr>\n",
       "    <tr>\n",
       "      <th>5</th>\n",
       "      <td>Tartumaa</td>\n",
       "      <td>16</td>\n",
       "      <td>157015</td>\n",
       "    </tr>\n",
       "    <tr>\n",
       "      <th>6</th>\n",
       "      <td>Jõgevamaa</td>\n",
       "      <td>2</td>\n",
       "      <td>29640</td>\n",
       "    </tr>\n",
       "    <tr>\n",
       "      <th>7</th>\n",
       "      <td>Põlvamaa</td>\n",
       "      <td>1</td>\n",
       "      <td>25894</td>\n",
       "    </tr>\n",
       "    <tr>\n",
       "      <th>8</th>\n",
       "      <td>Ida-Virumaa</td>\n",
       "      <td>146</td>\n",
       "      <td>140302</td>\n",
       "    </tr>\n",
       "    <tr>\n",
       "      <th>9</th>\n",
       "      <td>Võrumaa</td>\n",
       "      <td>10</td>\n",
       "      <td>37012</td>\n",
       "    </tr>\n",
       "    <tr>\n",
       "      <th>10</th>\n",
       "      <td>Läänemaa</td>\n",
       "      <td>4</td>\n",
       "      <td>21134</td>\n",
       "    </tr>\n",
       "    <tr>\n",
       "      <th>11</th>\n",
       "      <td>Raplamaa</td>\n",
       "      <td>4</td>\n",
       "      <td>34089</td>\n",
       "    </tr>\n",
       "    <tr>\n",
       "      <th>12</th>\n",
       "      <td>Valgamaa</td>\n",
       "      <td>1</td>\n",
       "      <td>29267</td>\n",
       "    </tr>\n",
       "    <tr>\n",
       "      <th>13</th>\n",
       "      <td>Hiiumaa</td>\n",
       "      <td>1</td>\n",
       "      <td>9589</td>\n",
       "    </tr>\n",
       "    <tr>\n",
       "      <th>14</th>\n",
       "      <td>Järvamaa</td>\n",
       "      <td>3</td>\n",
       "      <td>31083</td>\n",
       "    </tr>\n",
       "  </tbody>\n",
       "</table>\n",
       "</div>"
      ],
      "text/plain": [
       "            MNIMI  activeCases  Population\n",
       "0        Pärnumaa            2       88125\n",
       "1        Saaremaa            4       33984\n",
       "2   Lääne-Virumaa            8       60891\n",
       "3        Harjumaa          235      611002\n",
       "4     Viljandimaa            1       47778\n",
       "5        Tartumaa           16      157015\n",
       "6       Jõgevamaa            2       29640\n",
       "7        Põlvamaa            1       25894\n",
       "8     Ida-Virumaa          146      140302\n",
       "9         Võrumaa           10       37012\n",
       "10       Läänemaa            4       21134\n",
       "11       Raplamaa            4       34089\n",
       "12       Valgamaa            1       29267\n",
       "13        Hiiumaa            1        9589\n",
       "14       Järvamaa            3       31083"
      ]
     },
     "execution_count": 50,
     "metadata": {},
     "output_type": "execute_result"
    }
   ],
   "source": [
    "ts_lyr = flc.layers[0] # get the first layer (it only contains one)\n",
    "ts_fset = ts_lyr.query(where=\"lastFeature=1\") # query it without a query, to select all data\n",
    "ts_df = ts_fset.sdf[['MNIMI', 'activeCases', 'Population']] # save data to spatially enabled dataset\n",
    "ts_df"
   ]
  },
  {
   "cell_type": "markdown",
   "metadata": {},
   "source": [
    "In the next step we sum the active cases (last 14 days), by the sum of the population."
   ]
  },
  {
   "cell_type": "code",
   "execution_count": 58,
   "metadata": {},
   "outputs": [
    {
     "name": "stdout",
     "output_type": "stream",
     "text": [
      "Estonia has 438 active Cases. The population is 1356805. \n",
      "This equals 32.3 cases per 100k inhabitants in the last 14 days.\n"
     ]
    }
   ],
   "source": [
    "aC = ts_df.activeCases.sum()\n",
    "Pop = ts_df.Population.sum()\n",
    "ee_val = round((aC / Pop ) * 100000, 1)\n",
    "\n",
    "print(\n",
    "f\"Estonia has {aC} active Cases. The population is {Pop}. \\n\\\n",
    "This equals {ee_val} cases per 100k inhabitants in the last 14 days.\"\n",
    ")"
   ]
  },
  {
   "cell_type": "markdown",
   "metadata": {},
   "source": [
    "Saving back to the dictionary."
   ]
  },
  {
   "cell_type": "code",
   "execution_count": 59,
   "metadata": {},
   "outputs": [],
   "source": [
    "a2_status['EE'] = {'val': ee_val, 'note': False, 'fom': True}"
   ]
  },
  {
   "cell_type": "markdown",
   "metadata": {},
   "source": [
    "#### Add exemption for Finland, Latvia, Lithuania"
   ]
  },
  {
   "cell_type": "code",
   "execution_count": 23,
   "metadata": {},
   "outputs": [],
   "source": [
    "for a2 in ['FI', 'LV', 'LT']:\n",
    "    val = a2_status[a2]['val']\n",
    "    if val < 25:\n",
    "        a2_status[a2]['fom'] = True"
   ]
  },
  {
   "cell_type": "markdown",
   "metadata": {},
   "source": [
    "## Push results to ArcGIS Online"
   ]
  },
  {
   "cell_type": "markdown",
   "metadata": {},
   "source": [
    "Load the necessary packages. "
   ]
  },
  {
   "cell_type": "code",
   "execution_count": 24,
   "metadata": {},
   "outputs": [],
   "source": [
    "from copy import deepcopy\n",
    "import pytz\n",
    "from dateutil.tz import tzlocal"
   ]
  },
  {
   "cell_type": "markdown",
   "metadata": {},
   "source": [
    "Log in to ArcGIS Online. "
   ]
  },
  {
   "cell_type": "code",
   "execution_count": 25,
   "metadata": {},
   "outputs": [],
   "source": [
    "#gis = GIS(username=\"user1\", password=\"password\", profile=\"COVDemo\") # uncomment to log in and safe as a profile.\n",
    "gis = GIS(profile=\"COVDemo\")"
   ]
  },
  {
   "cell_type": "markdown",
   "metadata": {},
   "source": [
    "Get the Feature Layer Collection that we want to edit. (It has been created before, click the link to check out the data structure.)"
   ]
  },
  {
   "cell_type": "code",
   "execution_count": 26,
   "metadata": {},
   "outputs": [
    {
     "data": {
      "text/html": [
       "<div class=\"item_container\" style=\"height: auto; overflow: hidden; border: 1px solid #cfcfcf; border-radius: 2px; background: #f6fafa; line-height: 1.21429em; padding: 10px;\">\n",
       "                    <div class=\"item_left\" style=\"width: 210px; float: left;\">\n",
       "                       <a href='https://ag.maps.arcgis.com/home/item.html?id=abe1b723785f4ecfbb602697d50872a0' target='_blank'>\n",
       "                        <img src='data:image/png;base64,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' width='200' height='133' class=\"itemThumbnail\">\n",
       "                       </a>\n",
       "                    </div>\n",
       "\n",
       "                    <div class=\"item_right\"     style=\"float: none; width: auto; overflow: hidden;\">\n",
       "                        <a href='https://ag.maps.arcgis.com/home/item.html?id=abe1b723785f4ecfbb602697d50872a0' target='_blank'><b>Covid19 Teave riikide</b>\n",
       "                        </a>\n",
       "                        <br/>World map with current restrictions in Freedom of Movement (14-day quarantine) for entering Estonia. Last Update: <img src='https://ag.maps.arcgis.com/home/js/jsapi/esri/css/images/item_type_icons/featureshosted16.png' style=\"vertical-align:middle;\">Feature Layer Collection by MBennTLL\n",
       "                        <br/>Last Modified: september 17, 2020\n",
       "                        <br/>0 comments, 111 views\n",
       "                    </div>\n",
       "                </div>\n",
       "                "
      ],
      "text/plain": [
       "<Item title:\"Covid19 Teave riikide\" type:Feature Layer Collection owner:MBennTLL>"
      ]
     },
     "execution_count": 26,
     "metadata": {},
     "output_type": "execute_result"
    }
   ],
   "source": [
    "current_id = r'abe1b723785f4ecfbb602697d50872a0'\n",
    "flc = gis.content.get(current_id)\n",
    "flc"
   ]
  },
  {
   "cell_type": "code",
   "execution_count": 27,
   "metadata": {},
   "outputs": [
    {
     "name": "stdout",
     "output_type": "stream",
     "text": [
      "Retrieved 256 features from feature set\n"
     ]
    }
   ],
   "source": [
    "flayer = flc.layers[0] # get the first layer (it only contains one)\n",
    "fset = flayer.query() # query it without a query, to select all data\n",
    "sdf = fset.sdf # save data to spatially enabled dataset\n",
    "\n",
    "all_features = fset.features # save all the feautres to a list as json objects\n",
    "print(\"Retrieved {} features from feature set\".format(len(all_features)))"
   ]
  },
  {
   "cell_type": "markdown",
   "metadata": {},
   "source": [
    "**Do the following steps in loop.**\n",
    "\n",
    "1. Check whether the new data is more recent than the previously stored.\n",
    "2. Loop through all ISO 2 digit values in feature set\n",
    "    1. Find all features with said code\n",
    "    2. Remove geometries, to reduce processing time and traffic\n",
    "    3. Check whether the 2-digit code is also to be found in the previously created dictionary\n",
    "        1. YES: copy values from dictionary to the feature\n",
    "        2. NO: reset all values to None/Null values\n",
    "    4. Add the feature to the list of feature that need to be updated\n"
   ]
  },
  {
   "cell_type": "code",
   "execution_count": 28,
   "metadata": {},
   "outputs": [],
   "source": [
    "import pandas as pd"
   ]
  },
  {
   "cell_type": "code",
   "execution_count": 29,
   "metadata": {},
   "outputs": [],
   "source": [
    "features_to_update = [] # create empty list with features that will be updated.\n",
    "\n",
    "# check if new data is more recent than the last data\n",
    "if pd.isnull(sdf.lastUpdate.max()) or up_date.astimezone(pytz.utc) > sdf.lastUpdate.max().replace(tzinfo=pytz.utc): # \n",
    "    for a2 in sdf.ISO_2DIGIT.values: # go through all the 2-digit codes in the feature set\n",
    "        original_features = [f for f in all_features if f.attributes['ISO_2DIGIT'] == a2] # query to find the feature(s)\n",
    "        for original_feature in original_features: # some countries contain more than one polygon\n",
    "            feature_to_be_updated = deepcopy(original_feature) # copy the original\n",
    "            del feature_to_be_updated.attributes['SHAPE'] # delete shape temporarily (does not need to be updated)\n",
    "            \n",
    "            if a2 in a2_status: # check whether the code exist in previously created dictionary\n",
    "                curVal = a2_status[a2]['val'] # get current value from dictionary\n",
    "                prevVal = feature_to_be_updated.attributes['activeCasesp100k'] # save previous value\n",
    "                feature_to_be_updated.attributes['activeCasesp100k'] = curVal # set current \n",
    "                feature_to_be_updated.attributes['prevActiveCp100k'] = prevVal # set previous \n",
    "                feature_to_be_updated.attributes['addInfo'] = int(a2_status[a2]['note']) # set 0/1 if there is a note\n",
    "                feature_to_be_updated.attributes['StatusCode'] = 1 if a2_status[a2]['fom'] else 2 # set Status depending on FOM\n",
    "                feature_to_be_updated.attributes['prevUpdate'] = feature_to_be_updated.attributes['lastUpdate'] # set last update \n",
    "                feature_to_be_updated.attributes['lastUpdate'] = up_date # set to date extracted from text \n",
    "                feature_to_be_updated.attributes['validFrom'] = valid_from # set to period extracted from text \n",
    "                feature_to_be_updated.attributes['validTo'] = valid_to # set to period extracted from text \n",
    "                if prevVal and curVal:\n",
    "                    feature_to_be_updated.attributes['activeCasesTrend'] = 1 if round(prevVal,1) < round(curVal,1) else 2\n",
    "                else:\n",
    "                    feature_to_be_updated.attributes['activeCasesTrend'] = 0\n",
    "            else:\n",
    "                # set everything to none except previous values\n",
    "                feature_to_be_updated.attributes['activeCasesp100k'] = None\n",
    "                feature_to_be_updated.attributes['prevActiveCp100k'] = feature_to_be_updated.attributes['activeCasesp100k']\n",
    "                feature_to_be_updated.attributes['addInfo'] = None\n",
    "                feature_to_be_updated.attributes['StatusCode'] = 9\n",
    "                feature_to_be_updated.attributes['prevUpdate'] = feature_to_be_updated.attributes['lastUpdate']\n",
    "                feature_to_be_updated.attributes['lastUpdate'] = None\n",
    "                feature_to_be_updated.attributes['validFrom'] = None\n",
    "                feature_to_be_updated.attributes['validTo'] = None\n",
    "                feature_to_be_updated.attributes['activeCasesTrend'] = 0\n",
    "            # remove the feature geometry by keeping the attributes only   \n",
    "            feature_to_be_updated2 = {}\n",
    "            feature_to_be_updated2['attributes'] = feature_to_be_updated.attributes\n",
    "            features_to_update.append(feature_to_be_updated2) # append the updated attributes\n",
    "    result = flayer.edit_features(updates=features_to_update) # update the data online"
   ]
  }
 ],
 "metadata": {
  "kernelspec": {
   "display_name": "Python 3",
   "language": "python",
   "name": "python3"
  },
  "language_info": {
   "codemirror_mode": {
    "name": "ipython",
    "version": 3
   },
   "file_extension": ".py",
   "mimetype": "text/x-python",
   "name": "python",
   "nbconvert_exporter": "python",
   "pygments_lexer": "ipython3",
   "version": "3.6.7"
  }
 },
 "nbformat": 4,
 "nbformat_minor": 4
}
