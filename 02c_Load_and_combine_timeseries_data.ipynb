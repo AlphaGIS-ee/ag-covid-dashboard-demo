{
 "cells": [
  {
   "cell_type": "markdown",
   "metadata": {},
   "source": [
    "# Load and combine timeseries data "
   ]
  },
  {
   "cell_type": "markdown",
   "metadata": {},
   "source": [
    "**Index**\n",
    "1. [Timeseries-Estonia](#Timeseries-Estonia)\n",
    "2. [Timeseries Estonian Counties](#Timeseries-Estonian-Counties)\n",
    "\n",
    "This Notebooks shows how to load previously generated Estonian and County-level timeseries into a File Geodatabase. The data that is used, is provided by the [Maa-amet geoportaal](https://geoportaal.maaamet.ee/eng/), [Eesti Statistika](https://www.stat.ee/en) and [Terviseamet via DigiLugu](https://www.terviseamet.ee/et/koroonaviirus/avaandmed)."
   ]
  },
  {
   "cell_type": "code",
   "execution_count": 1,
   "metadata": {},
   "outputs": [],
   "source": [
    "import arcpy\n",
    "import os\n",
    "from aglearn import remap as rm\n",
    "from pprint import pprint"
   ]
  },
  {
   "cell_type": "markdown",
   "metadata": {},
   "source": [
    "Set variables"
   ]
  },
  {
   "cell_type": "code",
   "execution_count": 2,
   "metadata": {},
   "outputs": [
    {
     "data": {
      "text/plain": [
       "'C:\\\\Users\\\\Markus.Benninghoff\\\\Notebooks\\\\corona'"
      ]
     },
     "execution_count": 2,
     "metadata": {},
     "output_type": "execute_result"
    }
   ],
   "source": [
    "os.getcwd()"
   ]
  },
  {
   "cell_type": "code",
   "execution_count": 3,
   "metadata": {},
   "outputs": [],
   "source": [
    "path = os.path.join(os.getcwd(), r'gisdata')\n",
    "gdbPath = os.path.join(path, r'covid.gdb')\n",
    "tmpPath = os.path.join(path, r'temp.gdb')\n",
    "arcpy.env.overwriteOutput = True\n",
    "arcpy.env.workspace = gdbPath"
   ]
  },
  {
   "cell_type": "markdown",
   "metadata": {},
   "source": [
    "## Timeseries Estonia"
   ]
  },
  {
   "cell_type": "markdown",
   "metadata": {},
   "source": [
    "Here the timeseries that was created from the raw open data ([see here](01_Download_and_Preprocess_Data.ipynb#Timeseries-Estonia)), is loaded into the File Geodatabase."
   ]
  },
  {
   "cell_type": "code",
   "execution_count": 4,
   "metadata": {},
   "outputs": [],
   "source": [
    "eetstable = \"timeseries_estonia\"\n",
    "result = arcpy.conversion.TableToTable(r\"data/cov_ts_eesti.csv\", gdbPath, eetstable)"
   ]
  },
  {
   "cell_type": "markdown",
   "metadata": {},
   "source": [
    "The conversion tool automatically assumes that the numbers should be treated as float values. If this is not desired [```FieldMappings```](https://desktop.arcgis.com/en/arcmap/10.3/analyze/arcpy-classes/fieldmappings.htm) need to be created beforehand."
   ]
  },
  {
   "cell_type": "markdown",
   "metadata": {},
   "source": [
    "### Add demographic information"
   ]
  },
  {
   "cell_type": "markdown",
   "metadata": {},
   "source": [
    "#### Get total population based on Ruutkaart2018"
   ]
  },
  {
   "cell_type": "markdown",
   "metadata": {},
   "source": [
    "The data is stored in the point and polygon shapefiles. The arcpy cursor can be utilized to load the data. (Alternatively the [SummaryStatistics](https://pro.arcgis.com/en/pro-app/tool-reference/analysis/summary-statistics.htm) tool could be used.)"
   ]
  },
  {
   "cell_type": "code",
   "execution_count": 5,
   "metadata": {},
   "outputs": [],
   "source": [
    "mkrkfn = r\"maakond_ruutkaart_\""
   ]
  },
  {
   "cell_type": "markdown",
   "metadata": {},
   "source": [
    "Loop through the all counties in Feature class, calculate total sum for population (```ePopTotal2018```) and fill 2 dictionaries:\n",
    "\n",
    "- ```eePopCounty2018``` Population per County, MKOOD used as the key\n",
    "- ``` eeShapeCounty``` Dictionary in which the geometries of each County (ArcObjects) are stored."
   ]
  },
  {
   "cell_type": "code",
   "execution_count": 6,
   "metadata": {},
   "outputs": [],
   "source": [
    "eePopTotal2018 = 0\n",
    "eePopCounty2018 = {}\n",
    "eeShapeCounty = {}\n",
    "with arcpy.da.SearchCursor(mkrkfn, [\"MKOOD\", \"TOTAL\", \"SHAPE@\"]) as sCursor:\n",
    "    for row in sCursor:\n",
    "        mkood = row[0]\n",
    "        pop = row[1]\n",
    "        shape = row[2]\n",
    "        eePopTotal2018 = int(eePopTotal2018 + pop)\n",
    "        eePopCounty2018[mkood] = int(pop)\n",
    "        eeShapeCounty[mkood] = shape"
   ]
  },
  {
   "cell_type": "code",
   "execution_count": 7,
   "metadata": {},
   "outputs": [
    {
     "name": "stdout",
     "output_type": "stream",
     "text": [
      "Total population of Estonia, according to underlying dataset was 1316490\n",
      "It divides into the respective Counties , as follows:\n",
      "Harju maakond        : 582296\n",
      "Hiiu maakond         : 9428\n",
      "Ida-Viru maakond     : 134299\n",
      "Jõgeva maakond       : 29413\n",
      "Järva maakond        : 32034\n",
      "Lääne maakond        : 20737\n",
      "Lääne-Viru maakond   : 61275\n",
      "Põlva maakond        : 26228\n",
      "Pärnu maakond        : 86643\n",
      "Rapla maakond        : 34615\n",
      "Saare maakond        : 33709\n",
      "Tartu maakond        : 152072\n",
      "Valga maakond        : 28191\n",
      "Viljandi maakond     : 48249\n",
      "Võru maakond         : 37301\n"
     ]
    }
   ],
   "source": [
    "print('Total population of Estonia, according to underlying dataset was {}'.format(int(eePopTotal2018)))\n",
    "print('It divides into the respective Counties , as follows:')\n",
    "for mkood in eePopCounty2018.keys():\n",
    "    print('{:<20} : {}'.format(rm.MKOOD_MNIMI[mkood], eePopCounty2018[mkood] )) # look up the County name from aglearn module"
   ]
  },
  {
   "cell_type": "markdown",
   "metadata": {},
   "source": [
    "#### Calculate cases relative to Population"
   ]
  },
  {
   "cell_type": "markdown",
   "metadata": {},
   "source": [
    "Using the total population it is now possible to set the number of positive cases into perspective."
   ]
  },
  {
   "cell_type": "code",
   "execution_count": 8,
   "metadata": {
    "scrolled": true
   },
   "outputs": [],
   "source": [
    "result = arcpy.AddField_management(eetstable, 'cumulativePosPer10K', 'Double')\n",
    "result = arcpy.CalculateField_management(eetstable, \n",
    "                                \"cumulativePosPer10K\",\n",
    "                                \"round((!cumulativePositive! / {eePop})*10000,1)\".format(eePop=eePopTotal2018),\n",
    "                                \"PYTHON3\")\n",
    "result = arcpy.AddField_management(eetstable, 'testedPerfPerPop10K', 'Double')\n",
    "result = arcpy.CalculateField_management(eetstable, \n",
    "                                \"testedPerfPerPop10K\", \n",
    "                                \"round((!testsPerformed! / {eePop})*10000,1)\".format(eePop=eePopTotal2018), \n",
    "                                \"PYTHON3\")"
   ]
  },
  {
   "cell_type": "code",
   "execution_count": 9,
   "metadata": {},
   "outputs": [
    {
     "name": "stdout",
     "output_type": "stream",
     "text": [
      "Fieldname:                Fieldtype: Length:\n",
      "OBJECTID                  OID        4      \n",
      "StatisticsDate            Date       8      \n",
      "negativeTests             Double     8      \n",
      "confirmedCases            Double     8      \n",
      "testsPerDay               Double     8      \n",
      "cumulativeNegative        Double     8      \n",
      "cumulativePositive        Double     8      \n",
      "testsPerformed            Double     8      \n",
      "positiveTestsPerc         Double     8      \n",
      "positiveTestsPercCum      Double     8      \n",
      "lastFeature               Double     8      \n",
      "cumulativePosPer10K       Double     8      \n",
      "testedPerfPerPop10K       Double     8      \n"
     ]
    }
   ],
   "source": [
    "ts_fields = arcpy.ListFields(eetstable)\n",
    "ts_fns = [] # saving the fieldnames here\n",
    "print(\"{:<25} {:<10} {:<7}\".format('Fieldname:', 'Fieldtype:', 'Length:'))\n",
    "for field in ts_fields:\n",
    "    ts_fns.append(field.name)\n",
    "    print(\"{:<25} {:<10} {:<7}\".format(field.name, field.type, field.length))\n",
    "ts_fns.remove('OBJECTID') # no need for OBJECTID later"
   ]
  },
  {
   "cell_type": "markdown",
   "metadata": {},
   "source": [
    "## Timeseries Estonian Counties"
   ]
  },
  {
   "cell_type": "markdown",
   "metadata": {},
   "source": [
    "For the comprehensive dataset of Estonia a table without spatial data was sufficient. The county data shall be displayed on a map, hence a Polygon Feature Class is needed."
   ]
  },
  {
   "cell_type": "code",
   "execution_count": 10,
   "metadata": {},
   "outputs": [],
   "source": [
    "mktsfs = \"timeseries_county\""
   ]
  },
  {
   "cell_type": "markdown",
   "metadata": {},
   "source": [
    "### Create empty FeatureClass"
   ]
  },
  {
   "cell_type": "markdown",
   "metadata": {},
   "source": [
    "Copying the SpatialReference from the summarized dataset created before (click here to jump back: [full](02a_Download_and_Analyze_Demographic_Data.ipynb#county_full) and [simplified](02b_Create_Simplified_Polygons.ipynb#county_simple) counties)."
   ]
  },
  {
   "cell_type": "code",
   "execution_count": 11,
   "metadata": {},
   "outputs": [],
   "source": [
    "sr = arcpy.Describe(mkrkfn).spatialReference"
   ]
  },
  {
   "cell_type": "code",
   "execution_count": 12,
   "metadata": {},
   "outputs": [],
   "source": [
    "result = arcpy.CreateFeatureclass_management(gdbPath, mktsfs, \"POLYGON\", \"\", \"\", \"\", sr)"
   ]
  },
  {
   "cell_type": "markdown",
   "metadata": {},
   "source": [
    "Adding all the fields that are present in the previos timeseries table, plus two fields identifying the counties."
   ]
  },
  {
   "cell_type": "code",
   "execution_count": 13,
   "metadata": {},
   "outputs": [],
   "source": [
    "for field in ts_fields[1:]:\n",
    "    arcpy.AddField_management(mktsfs, field.name, field.type)\n",
    "    \n",
    "arcpy.AddField_management(mktsfs, 'MKOOD', 'TEXT')\n",
    "ts_fns.append('MKOOD')\n",
    "arcpy.AddField_management(mktsfs, 'County', 'TEXT')\n",
    "ts_fns.append('County')"
   ]
  },
  {
   "cell_type": "markdown",
   "metadata": {},
   "source": [
    "### Fill FeatureClass"
   ]
  },
  {
   "cell_type": "markdown",
   "metadata": {},
   "source": [
    "Pandas is used to read the CSV file and fill the FeatureClass.\n",
    "\n",
    "(Alternative workflow: ```TableToTable``` + [```AddJoin```](https://pro.arcgis.com/en/pro-app/tool-reference/data-management/add-join.htm) + [```CopyFeature```](https://pro.arcgis.com/en/pro-app/tool-reference/data-management/copy-features.htm) )."
   ]
  },
  {
   "cell_type": "code",
   "execution_count": 14,
   "metadata": {},
   "outputs": [],
   "source": [
    "import pandas as pd"
   ]
  },
  {
   "cell_type": "markdown",
   "metadata": {},
   "source": [
    "Read the Dataframe"
   ]
  },
  {
   "cell_type": "code",
   "execution_count": 15,
   "metadata": {},
   "outputs": [
    {
     "data": {
      "text/html": [
       "<div>\n",
       "<style scoped>\n",
       "    .dataframe tbody tr th:only-of-type {\n",
       "        vertical-align: middle;\n",
       "    }\n",
       "\n",
       "    .dataframe tbody tr th {\n",
       "        vertical-align: top;\n",
       "    }\n",
       "\n",
       "    .dataframe thead th {\n",
       "        text-align: right;\n",
       "    }\n",
       "</style>\n",
       "<table border=\"1\" class=\"dataframe\">\n",
       "  <thead>\n",
       "    <tr style=\"text-align: right;\">\n",
       "      <th></th>\n",
       "      <th>StatisticsDate</th>\n",
       "      <th>negativeTests</th>\n",
       "      <th>confirmedCases</th>\n",
       "      <th>testsPerDay</th>\n",
       "      <th>cumulativeNegative</th>\n",
       "      <th>cumulativePositive</th>\n",
       "      <th>testsPerformed</th>\n",
       "      <th>lastFeature</th>\n",
       "      <th>County</th>\n",
       "      <th>positiveTestsPerc</th>\n",
       "      <th>positiveTestsPercCum</th>\n",
       "      <th>MKOOD</th>\n",
       "      <th>Population2018</th>\n",
       "      <th>cumulativePosPer10K</th>\n",
       "      <th>testedPerfPerPop10K</th>\n",
       "    </tr>\n",
       "  </thead>\n",
       "  <tbody>\n",
       "    <tr>\n",
       "      <td>0</td>\n",
       "      <td>2020-02-05</td>\n",
       "      <td>0.0</td>\n",
       "      <td>0.0</td>\n",
       "      <td>0.0</td>\n",
       "      <td>0.0</td>\n",
       "      <td>0.0</td>\n",
       "      <td>0.0</td>\n",
       "      <td>NaN</td>\n",
       "      <td>Tartu maakond</td>\n",
       "      <td>NaN</td>\n",
       "      <td>NaN</td>\n",
       "      <td>0079</td>\n",
       "      <td>152072</td>\n",
       "      <td>0.0</td>\n",
       "      <td>0.0</td>\n",
       "    </tr>\n",
       "    <tr>\n",
       "      <td>1</td>\n",
       "      <td>2020-02-06</td>\n",
       "      <td>0.0</td>\n",
       "      <td>0.0</td>\n",
       "      <td>0.0</td>\n",
       "      <td>0.0</td>\n",
       "      <td>0.0</td>\n",
       "      <td>0.0</td>\n",
       "      <td>NaN</td>\n",
       "      <td>Tartu maakond</td>\n",
       "      <td>NaN</td>\n",
       "      <td>NaN</td>\n",
       "      <td>0079</td>\n",
       "      <td>152072</td>\n",
       "      <td>0.0</td>\n",
       "      <td>0.0</td>\n",
       "    </tr>\n",
       "    <tr>\n",
       "      <td>2</td>\n",
       "      <td>2020-02-07</td>\n",
       "      <td>0.0</td>\n",
       "      <td>0.0</td>\n",
       "      <td>0.0</td>\n",
       "      <td>0.0</td>\n",
       "      <td>0.0</td>\n",
       "      <td>0.0</td>\n",
       "      <td>NaN</td>\n",
       "      <td>Tartu maakond</td>\n",
       "      <td>NaN</td>\n",
       "      <td>NaN</td>\n",
       "      <td>0079</td>\n",
       "      <td>152072</td>\n",
       "      <td>0.0</td>\n",
       "      <td>0.0</td>\n",
       "    </tr>\n",
       "    <tr>\n",
       "      <td>3</td>\n",
       "      <td>2020-02-08</td>\n",
       "      <td>0.0</td>\n",
       "      <td>0.0</td>\n",
       "      <td>0.0</td>\n",
       "      <td>0.0</td>\n",
       "      <td>0.0</td>\n",
       "      <td>0.0</td>\n",
       "      <td>NaN</td>\n",
       "      <td>Tartu maakond</td>\n",
       "      <td>NaN</td>\n",
       "      <td>NaN</td>\n",
       "      <td>0079</td>\n",
       "      <td>152072</td>\n",
       "      <td>0.0</td>\n",
       "      <td>0.0</td>\n",
       "    </tr>\n",
       "    <tr>\n",
       "      <td>4</td>\n",
       "      <td>2020-02-09</td>\n",
       "      <td>0.0</td>\n",
       "      <td>0.0</td>\n",
       "      <td>0.0</td>\n",
       "      <td>0.0</td>\n",
       "      <td>0.0</td>\n",
       "      <td>0.0</td>\n",
       "      <td>NaN</td>\n",
       "      <td>Tartu maakond</td>\n",
       "      <td>NaN</td>\n",
       "      <td>NaN</td>\n",
       "      <td>0079</td>\n",
       "      <td>152072</td>\n",
       "      <td>0.0</td>\n",
       "      <td>0.0</td>\n",
       "    </tr>\n",
       "    <tr>\n",
       "      <td>...</td>\n",
       "      <td>...</td>\n",
       "      <td>...</td>\n",
       "      <td>...</td>\n",
       "      <td>...</td>\n",
       "      <td>...</td>\n",
       "      <td>...</td>\n",
       "      <td>...</td>\n",
       "      <td>...</td>\n",
       "      <td>...</td>\n",
       "      <td>...</td>\n",
       "      <td>...</td>\n",
       "      <td>...</td>\n",
       "      <td>...</td>\n",
       "      <td>...</td>\n",
       "      <td>...</td>\n",
       "    </tr>\n",
       "    <tr>\n",
       "      <td>1315</td>\n",
       "      <td>2020-04-28</td>\n",
       "      <td>21.0</td>\n",
       "      <td>0.0</td>\n",
       "      <td>21.0</td>\n",
       "      <td>1273.0</td>\n",
       "      <td>12.0</td>\n",
       "      <td>1285.0</td>\n",
       "      <td>NaN</td>\n",
       "      <td>Järva maakond</td>\n",
       "      <td>0.0000</td>\n",
       "      <td>0.0093</td>\n",
       "      <td>0052</td>\n",
       "      <td>32034</td>\n",
       "      <td>3.7</td>\n",
       "      <td>401.1</td>\n",
       "    </tr>\n",
       "    <tr>\n",
       "      <td>1316</td>\n",
       "      <td>2020-04-29</td>\n",
       "      <td>125.0</td>\n",
       "      <td>1.0</td>\n",
       "      <td>126.0</td>\n",
       "      <td>1398.0</td>\n",
       "      <td>13.0</td>\n",
       "      <td>1411.0</td>\n",
       "      <td>NaN</td>\n",
       "      <td>Järva maakond</td>\n",
       "      <td>0.0079</td>\n",
       "      <td>0.0092</td>\n",
       "      <td>0052</td>\n",
       "      <td>32034</td>\n",
       "      <td>4.1</td>\n",
       "      <td>440.5</td>\n",
       "    </tr>\n",
       "    <tr>\n",
       "      <td>1317</td>\n",
       "      <td>2020-04-30</td>\n",
       "      <td>15.0</td>\n",
       "      <td>0.0</td>\n",
       "      <td>15.0</td>\n",
       "      <td>1413.0</td>\n",
       "      <td>13.0</td>\n",
       "      <td>1426.0</td>\n",
       "      <td>NaN</td>\n",
       "      <td>Järva maakond</td>\n",
       "      <td>0.0000</td>\n",
       "      <td>0.0091</td>\n",
       "      <td>0052</td>\n",
       "      <td>32034</td>\n",
       "      <td>4.1</td>\n",
       "      <td>445.2</td>\n",
       "    </tr>\n",
       "    <tr>\n",
       "      <td>1318</td>\n",
       "      <td>2020-05-01</td>\n",
       "      <td>32.0</td>\n",
       "      <td>0.0</td>\n",
       "      <td>32.0</td>\n",
       "      <td>1445.0</td>\n",
       "      <td>13.0</td>\n",
       "      <td>1458.0</td>\n",
       "      <td>NaN</td>\n",
       "      <td>Järva maakond</td>\n",
       "      <td>0.0000</td>\n",
       "      <td>0.0089</td>\n",
       "      <td>0052</td>\n",
       "      <td>32034</td>\n",
       "      <td>4.1</td>\n",
       "      <td>455.1</td>\n",
       "    </tr>\n",
       "    <tr>\n",
       "      <td>1319</td>\n",
       "      <td>2020-05-02</td>\n",
       "      <td>21.0</td>\n",
       "      <td>0.0</td>\n",
       "      <td>21.0</td>\n",
       "      <td>1466.0</td>\n",
       "      <td>13.0</td>\n",
       "      <td>1479.0</td>\n",
       "      <td>1.0</td>\n",
       "      <td>Järva maakond</td>\n",
       "      <td>0.0000</td>\n",
       "      <td>0.0088</td>\n",
       "      <td>0052</td>\n",
       "      <td>32034</td>\n",
       "      <td>4.1</td>\n",
       "      <td>461.7</td>\n",
       "    </tr>\n",
       "  </tbody>\n",
       "</table>\n",
       "<p>1320 rows × 15 columns</p>\n",
       "</div>"
      ],
      "text/plain": [
       "     StatisticsDate  negativeTests  confirmedCases  testsPerDay  \\\n",
       "0        2020-02-05            0.0             0.0          0.0   \n",
       "1        2020-02-06            0.0             0.0          0.0   \n",
       "2        2020-02-07            0.0             0.0          0.0   \n",
       "3        2020-02-08            0.0             0.0          0.0   \n",
       "4        2020-02-09            0.0             0.0          0.0   \n",
       "...             ...            ...             ...          ...   \n",
       "1315     2020-04-28           21.0             0.0         21.0   \n",
       "1316     2020-04-29          125.0             1.0        126.0   \n",
       "1317     2020-04-30           15.0             0.0         15.0   \n",
       "1318     2020-05-01           32.0             0.0         32.0   \n",
       "1319     2020-05-02           21.0             0.0         21.0   \n",
       "\n",
       "      cumulativeNegative  cumulativePositive  testsPerformed  lastFeature  \\\n",
       "0                    0.0                 0.0             0.0          NaN   \n",
       "1                    0.0                 0.0             0.0          NaN   \n",
       "2                    0.0                 0.0             0.0          NaN   \n",
       "3                    0.0                 0.0             0.0          NaN   \n",
       "4                    0.0                 0.0             0.0          NaN   \n",
       "...                  ...                 ...             ...          ...   \n",
       "1315              1273.0                12.0          1285.0          NaN   \n",
       "1316              1398.0                13.0          1411.0          NaN   \n",
       "1317              1413.0                13.0          1426.0          NaN   \n",
       "1318              1445.0                13.0          1458.0          NaN   \n",
       "1319              1466.0                13.0          1479.0          1.0   \n",
       "\n",
       "             County  positiveTestsPerc  positiveTestsPercCum MKOOD  \\\n",
       "0     Tartu maakond                NaN                   NaN  0079   \n",
       "1     Tartu maakond                NaN                   NaN  0079   \n",
       "2     Tartu maakond                NaN                   NaN  0079   \n",
       "3     Tartu maakond                NaN                   NaN  0079   \n",
       "4     Tartu maakond                NaN                   NaN  0079   \n",
       "...             ...                ...                   ...   ...   \n",
       "1315  Järva maakond             0.0000                0.0093  0052   \n",
       "1316  Järva maakond             0.0079                0.0092  0052   \n",
       "1317  Järva maakond             0.0000                0.0091  0052   \n",
       "1318  Järva maakond             0.0000                0.0089  0052   \n",
       "1319  Järva maakond             0.0000                0.0088  0052   \n",
       "\n",
       "      Population2018  cumulativePosPer10K  testedPerfPerPop10K  \n",
       "0             152072                  0.0                  0.0  \n",
       "1             152072                  0.0                  0.0  \n",
       "2             152072                  0.0                  0.0  \n",
       "3             152072                  0.0                  0.0  \n",
       "4             152072                  0.0                  0.0  \n",
       "...              ...                  ...                  ...  \n",
       "1315           32034                  3.7                401.1  \n",
       "1316           32034                  4.1                440.5  \n",
       "1317           32034                  4.1                445.2  \n",
       "1318           32034                  4.1                455.1  \n",
       "1319           32034                  4.1                461.7  \n",
       "\n",
       "[1320 rows x 15 columns]"
      ]
     },
     "execution_count": 15,
     "metadata": {},
     "output_type": "execute_result"
    }
   ],
   "source": [
    "df = pd.read_csv('data/ts_maakond.csv')\n",
    "\n",
    "# correct the MKOOD, which was falsely imported as integer.\n",
    "df['MKOOD'] = df['County'].map(rm.MNIMI_MKOOD) \n",
    "\n",
    "# get the population from previously created dictionary\n",
    "df['Population2018'] = df['MKOOD'].map(eePopCounty2018) \n",
    "\n",
    "# calculate two new columns (similar to previously performed CalculateField in TimeSeries estonia)\n",
    "df['cumulativePosPer10K'] = round((df['cumulativePositive'] / df['Population2018'])*10000,1) #\n",
    "df['testedPerfPerPop10K'] = round((df['testsPerformed'] / df['Population2018'])*10000,1)\n",
    "df"
   ]
  },
  {
   "cell_type": "markdown",
   "metadata": {},
   "source": [
    "Create a list of fieldnames, which occure in both datasets."
   ]
  },
  {
   "cell_type": "code",
   "execution_count": 16,
   "metadata": {},
   "outputs": [
    {
     "data": {
      "text/plain": [
       "['confirmedCases',\n",
       " 'MKOOD',\n",
       " 'cumulativePositive',\n",
       " 'cumulativePosPer10K',\n",
       " 'positiveTestsPerc',\n",
       " 'positiveTestsPercCum',\n",
       " 'testsPerformed',\n",
       " 'testsPerDay',\n",
       " 'cumulativeNegative',\n",
       " 'lastFeature',\n",
       " 'County',\n",
       " 'testedPerfPerPop10K',\n",
       " 'StatisticsDate',\n",
       " 'negativeTests',\n",
       " 'SHAPE@']"
      ]
     },
     "execution_count": 16,
     "metadata": {},
     "output_type": "execute_result"
    }
   ],
   "source": [
    "sFields = list(set(ts_fns).intersection(list(df.columns)))\n",
    "sFields.append('SHAPE@')\n",
    "sFields"
   ]
  },
  {
   "cell_type": "markdown",
   "metadata": {},
   "source": [
    "Add new data with the ```InsertCursor```."
   ]
  },
  {
   "cell_type": "code",
   "execution_count": 17,
   "metadata": {},
   "outputs": [],
   "source": [
    "iCursor = arcpy.da.InsertCursor(mktsfs, sFields)\n",
    "for indx,row in df[:].iterrows():\n",
    "    irow = [] # row to insert (to be filled)\n",
    "    for field in sFields[:-1]: # for each of the fields except 'SHAPE@'\n",
    "        irow.append(row[field]) # append the value\n",
    "    irow.append(eeShapeCounty[row.MKOOD]) # for the last field 'SHAPE@' get ArcObject from dictionary\n",
    "    iCursor.insertRow(irow)\n",
    "del iCursor"
   ]
  }
 ],
 "metadata": {
  "kernelspec": {
   "display_name": "Python 3",
   "language": "python",
   "name": "python3"
  },
  "language_info": {
   "codemirror_mode": {
    "name": "ipython",
    "version": 3
   },
   "file_extension": ".py",
   "mimetype": "text/x-python",
   "name": "python",
   "nbconvert_exporter": "python",
   "pygments_lexer": "ipython3",
   "version": "3.6.9"
  }
 },
 "nbformat": 4,
 "nbformat_minor": 2
}
