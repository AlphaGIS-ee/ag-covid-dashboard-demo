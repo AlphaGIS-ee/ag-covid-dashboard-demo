{
 "cells": [
  {
   "cell_type": "markdown",
   "metadata": {},
   "source": [
    "# Gathering and processing Data for ArcGIS Pro / Dashboard / Insights"
   ]
  },
  {
   "cell_type": "markdown",
   "metadata": {},
   "source": [
    "## Introduction"
   ]
  },
  {
   "cell_type": "markdown",
   "metadata": {},
   "source": [
    "The goal of this training series is to show common steps in data gathering, processing, publishing and visualisation utilizing ArcGIS Notebooks, ArcGIS Pro, ArcGIS Dashboards, and ArcGIS Insights. As an example, the open data on COVID-19 cases in Estonia will be used.\n",
    "\n",
    "The training will be divided into several parts:\n",
    "\n",
    "**Basic Python Workflows**\n",
    "\n",
    "1\\. [Get and Preprocess data from Estonian Open Data Platform](01_Download_and_Preprocess_Data.ipynb)\n",
    "\n",
    "**Workflows with ArcPy and ArcGIS Pro**\n",
    "\n",
    "2a\\. [Download and Analyze Demographic Data](02a_Download_and_Analyze_Demographic_Data.ipynb)\n",
    "\n",
    "2b\\. [Create Simplified Polygons](02b_Create_Simplified_Polygons.ipynb)\n",
    "\n",
    "2c\\. [Collect Data into ArcGIS Pro](02c_Load_Data_into_ArcGIS_Pro.ipynb)\n",
    "\n",
    "**Workflows with the ArcGIS API for Python**\n",
    "\n",
    "3a\\. [Publish Data to arcgis.com](03a_publish_data_into_arcgis.com.ipynb)\n",
    "\n",
    "3b\\. [Update Data on arcgis.com](03b_update_data_on_arcgis.com.ipynb)\n",
    "\n",
    "3c\\. [Visualize and Analyze Data in Notebooks](03c_Visualize_data_in_Notebooks.ipynb)\n",
    "\n",
    "**Demonstration on how to set up ArcGIS Online**\n",
    "\n",
    "4a\\. Creating ArcGIS Dashboards\n",
    "\n",
    "4b\\. Creating ArcGIS Insight workbooks\n",
    "\n",
    "4a\\. Creating ArcGIS Storymaps "
   ]
  },
  {
   "cell_type": "markdown",
   "metadata": {},
   "source": [
    "![Overview](img/overview.png)"
   ]
  },
  {
   "cell_type": "markdown",
   "metadata": {},
   "source": [
    "The reason behind publishing this document is not to encourage everyone to create their own data visualization on this critical topic. (See [this article](https://www.williamrchase.com/post/why-i-m-not-making-covid19-visualizations-and-why-you-probably-shouldn-t-either/) by William R. Chase.) Instead it should make the steps to create those dashboards transparent and for everyone to understand."
   ]
  },
  {
   "cell_type": "markdown",
   "metadata": {},
   "source": [
    "More so, the workflow and steps chosen are not always ideal. Instead, the reason behind chosing these ways is to highlight the functionality behind ```arcpy``` and ```arcgis``` libraries and give examples on how to use them. "
   ]
  }
 ],
 "metadata": {
  "kernelspec": {
   "display_name": "Python 3",
   "language": "python",
   "name": "python3"
  },
  "language_info": {
   "codemirror_mode": {
    "name": "ipython",
    "version": 3
   },
   "file_extension": ".py",
   "mimetype": "text/x-python",
   "name": "python",
   "nbconvert_exporter": "python",
   "pygments_lexer": "ipython3",
   "version": "3.6.9"
  }
 },
 "nbformat": 4,
 "nbformat_minor": 2
}
